{
 "cells": [
  {
   "cell_type": "code",
   "execution_count": null,
   "metadata": {
    "_cell_guid": "b1076dfc-b9ad-4769-8c92-a6c4dae69d19",
    "_uuid": "8f2839f25d086af736a60e9eeb907d3b93b6e0e5"
   },
   "outputs": [],
   "source": [
    "import time\n",
    "import random\n",
    "import pandas as pd\n",
    "import numpy as np\n",
    "import gc\n",
    "import re\n",
    "import torch\n",
    "from torchtext import data\n",
    "import spacy\n",
    "from tqdm import tqdm_notebook, tnrange\n",
    "from tqdm.auto import tqdm\n",
    "\n",
    "tqdm.pandas(desc='Progress')\n",
    "from collections import Counter\n",
    "from textblob import TextBlob\n",
    "from nltk import word_tokenize\n",
    "\n",
    "import torch as t\n",
    "import torch.nn as nn\n",
    "import torch.optim as optim\n",
    "import torch.nn.functional as F\n",
    "from torch.utils.data import Dataset, DataLoader\n",
    "from torch.nn.utils.rnn import pack_padded_sequence, pad_packed_sequence\n",
    "from torch.autograd import Variable\n",
    "from torchtext.data import Example\n",
    "from sklearn.metrics import f1_score\n",
    "import torchtext\n",
    "import os \n",
    "import string\n",
    "\n",
    "from keras.preprocessing.text import Tokenizer\n",
    "from keras.preprocessing.sequence import pad_sequences\n",
    "\n",
    "# cross validation and metrics\n",
    "from sklearn.model_selection import StratifiedKFold\n",
    "from sklearn.preprocessing import StandardScaler\n",
    "from sklearn.metrics import f1_score\n",
    "from torch.optim.optimizer import Optimizer\n",
    "from unidecode import unidecode"
   ]
  },
  {
   "cell_type": "code",
   "execution_count": null,
   "metadata": {
    "_cell_guid": "79c7e3d0-c299-4dcb-8224-4455121ee9b0",
    "_uuid": "d629ff2d2480ee46fbb7e2d37f6b5fab8052498a"
   },
   "outputs": [],
   "source": [
    "abs_start = time.time()\n",
    "# time.time()-abs_start"
   ]
  },
  {
   "cell_type": "code",
   "execution_count": null,
   "metadata": {
    "_uuid": "c61a9d14376355e36127488f07b2023069ac2d86"
   },
   "outputs": [],
   "source": [
    "embed_size = 300 # how big is each word vector\n",
    "max_features = 120000 # how many unique words to use (i.e num rows in embedding vector)\n",
    "maxlen = 70 # max number of words in a question to use\n",
    "batch_size = 512 # how many samples to process at once\n",
    "n_epochs = 5 # how many times to iterate over all samples\n",
    "n_splits = 5 # Number of K-fold Splits\n",
    "\n",
    "proj_embed_sz = 300\n",
    "emb_dropout = 0.2\n",
    "rnn_dim = 512\n",
    "fc_dim = 1024\n",
    "clf_dropout = 0.2\n",
    "attnnet = 'dep_gating'\n",
    "\n",
    "SEED = 1029"
   ]
  },
  {
   "cell_type": "code",
   "execution_count": null,
   "metadata": {
    "_uuid": "d6cc2fb7d5fcd09255e0c13de0f082fee69a75c9",
    "code_folding": [
     0
    ]
   },
   "outputs": [],
   "source": [
    "def seed_everything(seed=1029):\n",
    "    random.seed(seed)\n",
    "    os.environ['PYTHONHASHSEED'] = str(seed)\n",
    "    np.random.seed(seed)\n",
    "    torch.manual_seed(seed)\n",
    "    torch.cuda.manual_seed(seed)\n",
    "    torch.backends.cudnn.deterministic = True\n",
    "seed_everything()"
   ]
  },
  {
   "cell_type": "code",
   "execution_count": null,
   "metadata": {
    "_uuid": "f183b178534dec60f43c1de3254b5c57f503de33",
    "code_folding": [
     0
    ]
   },
   "outputs": [],
   "source": [
    "def load(embedding_name,word_index):\n",
    "    if embedding_name == 'glove':\n",
    "        EMBEDDING_FILE = '../input/embeddings/glove.840B.300d/glove.840B.300d.txt'\n",
    "        def get_coefs(word,*arr): return word, np.asarray(arr, dtype='float32')[:300]\n",
    "        embeddings_index = dict(get_coefs(*o.split(\" \")) for o in open(EMBEDDING_FILE))\n",
    "        emb_mean,emb_std = -0.005838499,0.48782197\n",
    "    elif embedding_name == 'fasttext':\n",
    "        EMBEDDING_FILE = '../input/embeddings/wiki-news-300d-1M/wiki-news-300d-1M.vec'\n",
    "        def get_coefs(word,*arr): return word, np.asarray(arr, dtype='float32')\n",
    "        embeddings_index = dict(get_coefs(*o.split(\" \")) for o in open(EMBEDDING_FILE) if len(o)>100)\n",
    "        emb_mean,emb_std = -0.0033469985,0.109855495\n",
    "    elif embedding_name == 'para':\n",
    "        EMBEDDING_FILE = '../input/embeddings/paragram_300_sl999/paragram_300_sl999.txt'\n",
    "        def get_coefs(word,*arr): return word, np.asarray(arr, dtype='float32')\n",
    "        embeddings_index = dict(get_coefs(*o.split(\" \")) for o in open(EMBEDDING_FILE, encoding=\"utf8\", errors='ignore') if len(o)>100)\n",
    "        emb_mean,emb_std = -0.0053247833,0.49346462\n",
    "        \n",
    "    embed_size = 300\n",
    "    nb_words = min(max_features,len(word_index))\n",
    "    \n",
    "    punct = \"/-'?!.,#$%\\'()*+-/:;<=>@[\\\\]^_`{|}~\" + '\"\"“”’' + '∞θ÷α•à−β∅³π‘₹´°£€\\×™√²—–&'\n",
    "    for p in punct:\n",
    "        if p not in embeddings_index:\n",
    "            embeddings_index[p] = np.zeros((1,embed_size))\n",
    "            \n",
    "    embedding_matrix = np.random.normal(emb_mean, emb_std, (nb_words, embed_size))\n",
    "    \n",
    "    for word, i in word_index.items():\n",
    "        if i >= nb_words: continue\n",
    "        embedding_vector = embeddings_index.get(word)\n",
    "        if embedding_vector is None:\n",
    "            embedding_vector = embeddings_index.get(word.capitalize())\n",
    "        if embedding_vector is not None: embedding_matrix[i] = embedding_vector\n",
    "        \n",
    "    return embedding_matrix"
   ]
  },
  {
   "cell_type": "code",
   "execution_count": null,
   "metadata": {
    "_uuid": "cf0a71191447f024b5cfd07fe061c5f708c67f27",
    "code_folding": [
     0,
     6,
     12,
     21,
     26
    ]
   },
   "outputs": [],
   "source": [
    "puncts = [',', '.', '\"', ':', ')', '(', '-', '!', '?', '|', ';', \"'\", '$', '&', '/', '[', ']', '>', '%', '=', '#', '*', '+', '\\\\', '•',  '~', '@', '£', \n",
    " '·', '_', '{', '}', '©', '^', '®', '`',  '<', '→', '°', '€', '™', '›',  '♥', '←', '×', '§', '″', '′', 'Â', '█', '½', 'à', '…', \n",
    " '“', '★', '”', '–', '●', 'â', '►', '−', '¢', '²', '¬', '░', '¶', '↑', '±', '¿', '▾', '═', '¦', '║', '―', '¥', '▓', '—', '‹', '─', \n",
    " '▒', '：', '¼', '⊕', '▼', '▪', '†', '■', '’', '▀', '¨', '▄', '♫', '☆', 'é', '¯', '♦', '¤', '▲', 'è', '¸', '¾', 'Ã', '⋅', '‘', '∞', \n",
    " '∙', '）', '↓', '、', '│', '（', '»', '，', '♪', '╩', '╚', '³', '・', '╦', '╣', '╔', '╗', '▬', '❤', 'ï', 'Ø', '¹', '≤', '‡', '√', ]\n",
    "\n",
    "def clean_text(x):\n",
    "    x = str(x)\n",
    "    for punct in puncts:\n",
    "        x = x.replace(punct, f' {punct} ')\n",
    "    return x\n",
    "\n",
    "def clean_numbers(x):\n",
    "    x = re.sub('[0-9]{5,}', '#####', x)\n",
    "    x = re.sub('[0-9]{4}', '####', x)\n",
    "    x = re.sub('[0-9]{3}', '###', x)\n",
    "    x = re.sub('[0-9]{2}', '##', x)\n",
    "    return x\n",
    "\n",
    "mispell_dict = {\"ain't\": \"is not\", \"aren't\": \"are not\",\"can't\": \"cannot\", \"'cause\": \"because\", \"could've\": \"could have\", \"couldn't\": \"could not\", \"didn't\": \"did not\",  \"doesn't\": \"does not\", \"don't\": \"do not\", \"hadn't\": \"had not\", \"hasn't\": \"has not\", \"haven't\": \"have not\", \"he'd\": \"he would\",\"he'll\": \"he will\", \"he's\": \"he is\", \"how'd\": \"how did\", \"how'd'y\": \"how do you\", \"how'll\": \"how will\", \"how's\": \"how is\",  \"I'd\": \"I would\", \"I'd've\": \"I would have\", \"I'll\": \"I will\", \"I'll've\": \"I will have\",\"I'm\": \"I am\", \"I've\": \"I have\", \"i'd\": \"i would\", \"i'd've\": \"i would have\", \"i'll\": \"i will\",  \"i'll've\": \"i will have\",\"i'm\": \"i am\", \"i've\": \"i have\", \"isn't\": \"is not\", \"it'd\": \"it would\", \"it'd've\": \"it would have\", \"it'll\": \"it will\", \"it'll've\": \"it will have\",\"it's\": \"it is\", \"let's\": \"let us\", \"ma'am\": \"madam\", \"mayn't\": \"may not\", \"might've\": \"might have\",\"mightn't\": \"might not\",\"mightn't've\": \"might not have\", \"must've\": \"must have\", \"mustn't\": \"must not\", \"mustn't've\": \"must not have\", \"needn't\": \"need not\", \"needn't've\": \"need not have\",\"o'clock\": \"of the clock\", \"oughtn't\": \"ought not\", \"oughtn't've\": \"ought not have\", \"shan't\": \"shall not\", \"sha'n't\": \"shall not\", \"shan't've\": \"shall not have\", \"she'd\": \"she would\", \"she'd've\": \"she would have\", \"she'll\": \"she will\", \"she'll've\": \"she will have\", \"she's\": \"she is\", \"should've\": \"should have\", \"shouldn't\": \"should not\", \"shouldn't've\": \"should not have\", \"so've\": \"so have\",\"so's\": \"so as\", \"this's\": \"this is\",\"that'd\": \"that would\", \"that'd've\": \"that would have\", \"that's\": \"that is\", \"there'd\": \"there would\", \"there'd've\": \"there would have\", \"there's\": \"there is\", \"here's\": \"here is\",\"they'd\": \"they would\", \"they'd've\": \"they would have\", \"they'll\": \"they will\", \"they'll've\": \"they will have\", \"they're\": \"they are\", \"they've\": \"they have\", \"to've\": \"to have\", \"wasn't\": \"was not\", \"we'd\": \"we would\", \"we'd've\": \"we would have\", \"we'll\": \"we will\", \"we'll've\": \"we will have\", \"we're\": \"we are\", \"we've\": \"we have\", \"weren't\": \"were not\", \"what'll\": \"what will\", \"what'll've\": \"what will have\", \"what're\": \"what are\",  \"what's\": \"what is\", \"what've\": \"what have\", \"when's\": \"when is\", \"when've\": \"when have\", \"where'd\": \"where did\", \"where's\": \"where is\", \"where've\": \"where have\", \"who'll\": \"who will\", \"who'll've\": \"who will have\", \"who's\": \"who is\", \"who've\": \"who have\", \"why's\": \"why is\", \"why've\": \"why have\", \"will've\": \"will have\", \"won't\": \"will not\", \"won't've\": \"will not have\", \"would've\": \"would have\", \"wouldn't\": \"would not\", \"wouldn't've\": \"would not have\", \"y'all\": \"you all\", \"y'all'd\": \"you all would\",\"y'all'd've\": \"you all would have\",\"y'all're\": \"you all are\",\"y'all've\": \"you all have\",\"you'd\": \"you would\", \"you'd've\": \"you would have\", \"you'll\": \"you will\", \"you'll've\": \"you will have\", \"you're\": \"you are\", \"you've\": \"you have\", 'colour': 'color', 'centre': 'center', 'favourite': 'favorite', 'travelling': 'traveling', 'counselling': 'counseling', 'theatre': 'theater', 'cancelled': 'canceled', 'labour': 'labor', 'organisation': 'organization', 'wwii': 'world war 2', 'citicise': 'criticize', 'youtu ': 'youtube ', 'Qoura': 'Quora', 'sallary': 'salary', 'Whta': 'What', 'narcisist': 'narcissist', 'howdo': 'how do', 'whatare': 'what are', 'howcan': 'how can', 'howmuch': 'how much', 'howmany': 'how many', 'whydo': 'why do', 'doI': 'do I', 'theBest': 'the best', 'howdoes': 'how does', 'mastrubation': 'masturbation', 'mastrubate': 'masturbate', \"mastrubating\": 'masturbating', 'pennis': 'penis', 'Etherium': 'Ethereum', 'narcissit': 'narcissist', 'bigdata': 'big data', '2k17': '2017', '2k18': '2018', 'qouta': 'quota', 'exboyfriend': 'ex boyfriend', 'airhostess': 'air hostess', \"whst\": 'what', 'watsapp': 'whatsapp', 'demonitisation': 'demonetization', 'demonitization': 'demonetization', 'demonetisation': 'demonetization'}\n",
    "\n",
    "def _get_mispell(mispell_dict):\n",
    "    mispell_re = re.compile('(%s)' % '|'.join(mispell_dict.keys()))\n",
    "    return mispell_dict, mispell_re\n",
    "\n",
    "mispellings, mispellings_re = _get_mispell(mispell_dict)\n",
    "def replace_typical_misspell(text):\n",
    "    def replace(match):\n",
    "        return mispellings[match.group(0)]\n",
    "    return mispellings_re.sub(replace, text)"
   ]
  },
  {
   "cell_type": "code",
   "execution_count": null,
   "metadata": {
    "_uuid": "e85081c0b596a8cf85cbbb7add2987e8e8af5c04",
    "code_folding": [
     0,
     13
    ]
   },
   "outputs": [],
   "source": [
    "def add_features(df):    \n",
    "    \n",
    "    df['question_text'] = df['question_text'].apply(lambda x:str(x))\n",
    "    df['total_length'] = df['question_text'].apply(len)\n",
    "    df['capitals'] = df['question_text'].apply(lambda comment: sum(1 for c in comment if c.isupper()))\n",
    "    df['caps_vs_length'] = df.apply(lambda row: float(row['capitals'])/float(row['total_length']),axis=1)\n",
    "    df['num_words'] = df.question_text.str.count('\\S+')\n",
    "    df['num_unique_words'] = df['question_text'].apply(lambda comment: len(set(w for w in comment.split())))\n",
    "    df['words_vs_unique'] = df['num_unique_words'] / df['num_words']  \n",
    "    df[\"count_punctuations\"] =df[\"question_text\"].apply(lambda x: len([c for c in x if c in string.punctuation]))\n",
    "    \n",
    "    return df\n",
    "\n",
    "def load_and_prec():\n",
    "    train_df = pd.read_csv(\"../input/train.csv\")\n",
    "    test_df = pd.read_csv(\"../input/test.csv\")\n",
    "    print(\"Train shape : \",train_df.shape)\n",
    "    print(\"Test shape : \",test_df.shape)\n",
    "    \n",
    "    train_df[\"question_text\"] = train_df[\"question_text\"].apply(lambda x: x.lower()).apply(lambda x: clean_text(x)).apply(lambda x: clean_numbers(x)).apply(lambda x: replace_typical_misspell(x))\n",
    "                    \n",
    "    test_df[\"question_text\"] = test_df[\"question_text\"].apply(lambda x: x.lower()).apply(lambda x: clean_text(x)).apply(lambda x: clean_numbers(x)).apply(lambda x: replace_typical_misspell(x))\n",
    "\n",
    "#     # lower\n",
    "#     train_df[\"question_text\"] = train_df[\"question_text\"].apply(lambda x: x.lower())\n",
    "#     test_df[\"question_text\"] = test_df[\"question_text\"].apply(lambda x: x.lower())\n",
    "\n",
    "#     # Clean the text\n",
    "#     train_df[\"question_text\"] = train_df[\"question_text\"].apply(lambda x: clean_text(x))\n",
    "#     test_df[\"question_text\"] = test_df[\"question_text\"].apply(lambda x: clean_text(x))\n",
    "    \n",
    "#     # Clean numbers\n",
    "#     train_df[\"question_text\"] = train_df[\"question_text\"].apply(lambda x: clean_numbers(x))\n",
    "#     test_df[\"question_text\"] = test_df[\"question_text\"].apply(lambda x: clean_numbers(x))\n",
    "    \n",
    "#     # Clean spellings\n",
    "#     train_df[\"question_text\"] = train_df[\"question_text\"].apply(lambda x: replace_typical_misspell(x))\n",
    "#     test_df[\"question_text\"] = test_df[\"question_text\"].apply(lambda x: replace_typical_misspell(x))\n",
    "    \n",
    "    ## fill up the missing values\n",
    "    train_X = train_df[\"question_text\"].fillna(\"_##_\").values\n",
    "    test_X = test_df[\"question_text\"].fillna(\"_##_\").values\n",
    "    \n",
    "    train_df[\"question_text_rev\"] = train_df[\"question_text\"].apply(lambda x: ' '.join(reversed(x.split())))\n",
    "    test_df[\"question_text_rev\"] = test_df[\"question_text\"].apply(lambda x: ' '.join(reversed(x.split())))\n",
    "    \n",
    "    train_X_rev = train_df[\"question_text_rev\"].fillna(\"_##_\").values\n",
    "    test_X_rev = test_df[\"question_text_rev\"].fillna(\"_##_\").values\n",
    "    \n",
    "    ###################### Add Features ###############################\n",
    "    #  https://github.com/wongchunghang/toxic-comment-challenge-lstm/blob/master/toxic_comment_9872_model.ipynb\n",
    "    train = add_features(train_df)\n",
    "    test = add_features(test_df)\n",
    "\n",
    "    features = train[['total_length','capitals','caps_vs_length','num_words','num_unique_words','words_vs_unique','count_punctuations']].fillna(0)\n",
    "    test_features = test[['total_length','capitals','caps_vs_length','num_words','num_unique_words','words_vs_unique','count_punctuations']].fillna(0)\n",
    "\n",
    "    ss = StandardScaler()\n",
    "    ss.fit(np.vstack((features, test_features)))\n",
    "    features = ss.transform(features)\n",
    "    test_features = ss.transform(test_features)\n",
    "    ###########################################################################\n",
    "\n",
    "    ## Tokenize the sentences\n",
    "    tokenizer = Tokenizer(num_words=max_features,filters = '')\n",
    "    tokenizer.fit_on_texts(list(train_X))\n",
    "    train_X = tokenizer.texts_to_sequences(train_X)\n",
    "    train_X_rev = tokenizer.texts_to_sequences(train_X_rev)\n",
    "    test_X = tokenizer.texts_to_sequences(test_X)\n",
    "    test_X_rev = tokenizer.texts_to_sequences(test_X_rev)\n",
    "\n",
    "    ## Pad the sentences \n",
    "    train_X = pad_sequences(train_X, maxlen=maxlen)\n",
    "    test_X = pad_sequences(test_X, maxlen=maxlen)\n",
    "    \n",
    "    train_X_rev = pad_sequences(train_X_rev, maxlen=maxlen)\n",
    "    test_X_rev = pad_sequences(test_X_rev, maxlen=maxlen)\n",
    "\n",
    "    ## Get the target values\n",
    "    train_y = train_df['target'].values\n",
    "        \n",
    "    #shuffling the data\n",
    "    np.random.seed(SEED)\n",
    "    trn_idx = np.random.permutation(len(train_X))\n",
    "\n",
    "    train_X = train_X[trn_idx]\n",
    "    train_X_rev = train_X_rev[trn_idx]\n",
    "    train_y = train_y[trn_idx]    \n",
    "    features = features[trn_idx]\n",
    "    \n",
    "    return train_X, test_X,train_X_rev, test_X_rev, train_y, features, test_features, tokenizer.word_index"
   ]
  },
  {
   "cell_type": "code",
   "execution_count": null,
   "metadata": {
    "ExecuteTime": {
     "end_time": "2019-02-04T18:19:29.160998Z",
     "start_time": "2019-02-04T18:19:29.158478Z"
    },
    "_uuid": "e83ca0f79a485bed2fb6bd1c3b345d8f346577de"
   },
   "outputs": [],
   "source": [
    "start  = time.time()\n",
    "x_train, x_test,x_train_rev, x_test_rev, y_train, features, test_features, word_index = load_and_prec() \n",
    "(time.time() - start)/60"
   ]
  },
  {
   "cell_type": "code",
   "execution_count": null,
   "metadata": {
    "_uuid": "b46e357ead0a75a6686b7fb2ee698d5d6b4f0c3a",
    "collapsed": true
   },
   "outputs": [],
   "source": [
    "seed_everything()\n",
    "start  = time.time()\n",
    "\n",
    "glove_embeddings = load('glove',word_index)\n",
    "# paragram_embeddings = load('para',word_index)\n",
    "fasttext_embeddings = load('fasttext',word_index)\n",
    "\n",
    "embedding_matrix_mean = np.mean([glove_embeddings,fasttext_embeddings], axis=0)\n",
    "embedding_matrix_concat = np.concatenate([glove_embeddings,fasttext_embeddings], axis=1)\n",
    "\n",
    "(time.time() - start)/60"
   ]
  },
  {
   "cell_type": "code",
   "execution_count": null,
   "metadata": {
    "_uuid": "f3e6f4bf268dd7cd24355b488a8eb7989a1f2151"
   },
   "outputs": [],
   "source": [
    "embed_size_mean = embedding_matrix_mean.shape[1]\n",
    "embed_size_concat = embedding_matrix_concat.shape[1]\n",
    "embeds = ['glove','fasttext']\n",
    "embed_size_mean,embed_size_concat"
   ]
  },
  {
   "cell_type": "code",
   "execution_count": null,
   "metadata": {
    "_uuid": "1f1bdeae5e69f74cb55798ace6b794a06414e4a5",
    "code_folding": [
     0
    ]
   },
   "outputs": [],
   "source": [
    "use_pretrained_embedding = True\n",
    "\n",
    "hidden_size = 60\n",
    "gru_len = hidden_size\n",
    "\n",
    "Routings = 4 #5\n",
    "Num_capsule = 5\n",
    "Dim_capsule = 5#16\n",
    "dropout_p = 0.25\n",
    "rate_drop_dense = 0.28\n",
    "LR = 0.001\n",
    "T_epsilon = 1e-7\n",
    "num_classes = 30\n",
    "\n",
    "\n",
    "class CyclicLR(object):\n",
    "    def __init__(self, optimizer, base_lr=1e-3, max_lr=6e-3,\n",
    "                 step_size=2000, mode='triangular', gamma=1.,\n",
    "                 scale_fn=None, scale_mode='cycle', last_batch_iteration=-1):\n",
    "\n",
    "        if not isinstance(optimizer, Optimizer):\n",
    "            raise TypeError('{} is not an Optimizer'.format(\n",
    "                type(optimizer).__name__))\n",
    "        self.optimizer = optimizer\n",
    "\n",
    "        if isinstance(base_lr, list) or isinstance(base_lr, tuple):\n",
    "            if len(base_lr) != len(optimizer.param_groups):\n",
    "                raise ValueError(\"expected {} base_lr, got {}\".format(\n",
    "                    len(optimizer.param_groups), len(base_lr)))\n",
    "            self.base_lrs = list(base_lr)\n",
    "        else:\n",
    "            self.base_lrs = [base_lr] * len(optimizer.param_groups)\n",
    "\n",
    "        if isinstance(max_lr, list) or isinstance(max_lr, tuple):\n",
    "            if len(max_lr) != len(optimizer.param_groups):\n",
    "                raise ValueError(\"expected {} max_lr, got {}\".format(\n",
    "                    len(optimizer.param_groups), len(max_lr)))\n",
    "            self.max_lrs = list(max_lr)\n",
    "        else:\n",
    "            self.max_lrs = [max_lr] * len(optimizer.param_groups)\n",
    "\n",
    "        self.step_size = step_size\n",
    "\n",
    "        if mode not in ['triangular', 'triangular2', 'exp_range'] \\\n",
    "                and scale_fn is None:\n",
    "            raise ValueError('mode is invalid and scale_fn is None')\n",
    "\n",
    "        self.mode = mode\n",
    "        self.gamma = gamma\n",
    "\n",
    "        if scale_fn is None:\n",
    "            if self.mode == 'triangular':\n",
    "                self.scale_fn = self._triangular_scale_fn\n",
    "                self.scale_mode = 'cycle'\n",
    "            elif self.mode == 'triangular2':\n",
    "                self.scale_fn = self._triangular2_scale_fn\n",
    "                self.scale_mode = 'cycle'\n",
    "            elif self.mode == 'exp_range':\n",
    "                self.scale_fn = self._exp_range_scale_fn\n",
    "                self.scale_mode = 'iterations'\n",
    "        else:\n",
    "            self.scale_fn = scale_fn\n",
    "            self.scale_mode = scale_mode\n",
    "\n",
    "        self.batch_step(last_batch_iteration + 1)\n",
    "        self.last_batch_iteration = last_batch_iteration\n",
    "\n",
    "    def batch_step(self, batch_iteration=None):\n",
    "        if batch_iteration is None:\n",
    "            batch_iteration = self.last_batch_iteration + 1\n",
    "        self.last_batch_iteration = batch_iteration\n",
    "        for param_group, lr in zip(self.optimizer.param_groups, self.get_lr()):\n",
    "            param_group['lr'] = lr\n",
    "\n",
    "    def _triangular_scale_fn(self, x):\n",
    "        return 1.\n",
    "\n",
    "    def _triangular2_scale_fn(self, x):\n",
    "        return 1 / (2. ** (x - 1))\n",
    "\n",
    "    def _exp_range_scale_fn(self, x):\n",
    "        return self.gamma**(x)\n",
    "\n",
    "    def get_lr(self):\n",
    "        step_size = float(self.step_size)\n",
    "        cycle = np.floor(1 + self.last_batch_iteration / (2 * step_size))\n",
    "        x = np.abs(self.last_batch_iteration / step_size - 2 * cycle + 1)\n",
    "\n",
    "        lrs = []\n",
    "        param_lrs = zip(self.optimizer.param_groups, self.base_lrs, self.max_lrs)\n",
    "        for param_group, base_lr, max_lr in param_lrs:\n",
    "            base_height = (max_lr - base_lr) * np.maximum(0, (1 - x))\n",
    "            if self.scale_mode == 'cycle':\n",
    "                lr = base_lr + base_height * self.scale_fn(cycle)\n",
    "            else:\n",
    "                lr = base_lr + base_height * self.scale_fn(self.last_batch_iteration)\n",
    "            lrs.append(lr)\n",
    "        return lrs\n",
    "\n",
    "    \n",
    "# core caps_layer with squash func\n",
    "class Caps_Layer(nn.Module):\n",
    "    def __init__(self, input_dim_capsule=gru_len * 2, num_capsule=Num_capsule, dim_capsule=Dim_capsule, \\\n",
    "                 routings=Routings, kernel_size=(9, 1), share_weights=True,\n",
    "                 activation='default', **kwargs):\n",
    "        super(Caps_Layer, self).__init__(**kwargs)\n",
    "\n",
    "        self.num_capsule = num_capsule\n",
    "        self.dim_capsule = dim_capsule\n",
    "        self.routings = routings\n",
    "        self.kernel_size = kernel_size  # 暂时没用到\n",
    "        self.share_weights = share_weights\n",
    "        if activation == 'default':\n",
    "            self.activation = self.squash\n",
    "        else:\n",
    "            self.activation = nn.ReLU(inplace=True)\n",
    "\n",
    "        if self.share_weights:\n",
    "            self.W = nn.Parameter(\n",
    "                nn.init.xavier_normal_(t.empty(1, input_dim_capsule, self.num_capsule * self.dim_capsule)))\n",
    "        else:\n",
    "            self.W = nn.Parameter(\n",
    "                t.randn(BATCH_SIZE, input_dim_capsule, self.num_capsule * self.dim_capsule))  # 64即batch_size\n",
    "\n",
    "    def forward(self, x):\n",
    "\n",
    "        if self.share_weights:\n",
    "            u_hat_vecs = t.matmul(x, self.W)\n",
    "        else:\n",
    "            print('add later')\n",
    "\n",
    "        batch_size = x.size(0)\n",
    "        input_num_capsule = x.size(1)\n",
    "        u_hat_vecs = u_hat_vecs.view((batch_size, input_num_capsule,\n",
    "                                      self.num_capsule, self.dim_capsule))\n",
    "        u_hat_vecs = u_hat_vecs.permute(0, 2, 1, 3)  # 转成(batch_size,num_capsule,input_num_capsule,dim_capsule)\n",
    "        b = t.zeros_like(u_hat_vecs[:, :, :, 0])  # (batch_size,num_capsule,input_num_capsule)\n",
    "\n",
    "        for i in range(self.routings):\n",
    "            b = b.permute(0, 2, 1)\n",
    "            c = F.softmax(b, dim=2)\n",
    "            c = c.permute(0, 2, 1)\n",
    "            b = b.permute(0, 2, 1)\n",
    "            outputs = self.activation(t.einsum('bij,bijk->bik', (c, u_hat_vecs)))  # batch matrix multiplication\n",
    "            # outputs shape (batch_size, num_capsule, dim_capsule)\n",
    "            if i < self.routings - 1:\n",
    "                b = t.einsum('bik,bijk->bij', (outputs, u_hat_vecs))  # batch matrix multiplication\n",
    "        return outputs  # (batch_size, num_capsule, dim_capsule)\n",
    "\n",
    "    # text version of squash, slight different from original one\n",
    "    def squash(self, x, axis=-1):\n",
    "        s_squared_norm = (x ** 2).sum(axis, keepdim=True)\n",
    "        scale = t.sqrt(s_squared_norm + T_epsilon)\n",
    "        return x / scale\n"
   ]
  },
  {
   "cell_type": "code",
   "execution_count": null,
   "metadata": {
    "_uuid": "9401ee2ea131add3c635f3cc96976e5538eb0241",
    "code_folding": [
     0,
     42,
     53
    ]
   },
   "outputs": [],
   "source": [
    "class Attention(nn.Module):\n",
    "    def __init__(self, feature_dim, step_dim, bias=True, **kwargs):\n",
    "        super(Attention, self).__init__(**kwargs)\n",
    "        \n",
    "        self.supports_masking = True\n",
    "\n",
    "        self.bias = bias\n",
    "        self.feature_dim = feature_dim\n",
    "        self.step_dim = step_dim\n",
    "        self.features_dim = 0\n",
    "        \n",
    "        weight = torch.zeros(feature_dim, 1)\n",
    "        nn.init.xavier_uniform_(weight)\n",
    "        self.weight = nn.Parameter(weight)\n",
    "        \n",
    "        if bias:\n",
    "            self.b = nn.Parameter(torch.zeros(step_dim))\n",
    "        \n",
    "    def forward(self, x, mask=None):\n",
    "        feature_dim = self.feature_dim\n",
    "        step_dim = self.step_dim\n",
    "\n",
    "        eij = torch.mm(\n",
    "            x.contiguous().view(-1, feature_dim), \n",
    "            self.weight\n",
    "        ).view(-1, step_dim)\n",
    "        \n",
    "        if self.bias:\n",
    "            eij = eij + self.b\n",
    "            \n",
    "        eij = torch.tanh(eij)\n",
    "        a = torch.exp(eij)\n",
    "        \n",
    "        if mask is not None:\n",
    "            a = a * mask\n",
    "\n",
    "        a = a / torch.sum(a, 1, keepdim=True) + 1e-10\n",
    "\n",
    "        weighted_input = x * torch.unsqueeze(a, -1)\n",
    "        return torch.sum(weighted_input, 1)\n",
    "    \n",
    "    \n",
    "class MyDataset(Dataset):\n",
    "    def __init__(self,dataset):\n",
    "        self.dataset = dataset\n",
    "\n",
    "    def __getitem__(self, index):\n",
    "        data, target = self.dataset[index]\n",
    "\n",
    "        return data, target, index\n",
    "    def __len__(self):\n",
    "        return len(self.dataset)\n",
    "\n",
    "def sigmoid(x):\n",
    "    return 1 / (1 + np.exp(-x))"
   ]
  },
  {
   "cell_type": "code",
   "execution_count": 132,
   "metadata": {
    "_uuid": "6c901b525eb9398c7a33e2ba1b2717dd8b4656af",
    "code_folding": [
     0,
     12,
     24,
     39,
     106
    ]
   },
   "outputs": [],
   "source": [
    "def nn_init(nn_module, method='xavier'):\n",
    "    for param_name, _ in nn_module.named_parameters():\n",
    "        if isinstance(nn_module, nn.Sequential):\n",
    "            i, name = param_name.split('.', 1)\n",
    "            param = getattr(nn_module[int(i)], name)\n",
    "        else:\n",
    "            param = getattr(nn_module, param_name)\n",
    "        if param_name.find('weight') > -1:\n",
    "            init_weight(param, method)\n",
    "        elif param_name.find('bias') > -1:\n",
    "            nn.init.uniform_(param, -1e-4, 1e-4)\n",
    "\n",
    "def init_weight(weight, method):\n",
    "    if method == 'orthogonal':\n",
    "        nn.init.orthogonal_(weight)\n",
    "    elif method == 'xavier':\n",
    "        nn.init.xavier_uniform_(weight)\n",
    "    elif method == 'kaiming':\n",
    "        nn.init.kaiming_uniform_(weight)\n",
    "    elif method == 'none':\n",
    "        pass\n",
    "    else:\n",
    "        raise Exception('Unknown init method')\n",
    "\n",
    "class SingleEmbedder1(nn.Module):\n",
    "    def __init__(self,name):\n",
    "        super(SingleEmbedder1, self).__init__()\n",
    "        if name == 'glove':\n",
    "            self.embedding_matrix = glove_embeddings\n",
    "        elif name == 'fasttext':\n",
    "            self.embedding_matrix = fasttext_embeddings\n",
    "        self.embedder = nn.Embedding(max_features, 300)\n",
    "        self.embedder.weight = nn.Parameter(torch.tensor(self.embedding_matrix, dtype=torch.float32))\n",
    "        self.embedder.cuda()\n",
    "        self.embedder.weight.requires_grad = False\n",
    "        \n",
    "    def forward(self, x):\n",
    "        return self.embedder(x)\n",
    "\n",
    "class ProjSumEmbedder1(nn.Module):\n",
    "    def __init__(self,attnnet,embeds,proj_embed_sz):\n",
    "        super(ProjSumEmbedder1, self).__init__()\n",
    "#         assert attnnet in {'no_dep_softmax', 'dep_softmax', 'no_dep_gating', 'dep_gating'}\n",
    "        self.attnnet = attnnet\n",
    "        self.n_emb = len(embeds)\n",
    "        self.emb_sz = proj_embed_sz\n",
    "        self.emb_names = sorted([name for name in embeds])\n",
    "        self.embedders = nn.ModuleDict()\n",
    "        self.projectors = nn.ModuleDict()\n",
    "        self.nonlin = 'relu'\n",
    "        \n",
    "        for name in embeds:\n",
    "            self.embedders.update({name: SingleEmbedder1(name)})\n",
    "            self.projectors.update({name: nn.Linear(300, proj_embed_sz).cuda()})\n",
    "            nn_init(self.projectors[name], 'xavier')\n",
    "\n",
    "        self.attn_0, self.attn_1 = None, None\n",
    "        self.m_attn = None\n",
    "        if self.n_emb > 1:\n",
    "            if attnnet.startswith('dep_'):\n",
    "                self.attn_0 = nn.LSTM(proj_embed_sz, 2, bidirectional=True)\n",
    "                nn_init(self.attn_0, 'orthogonal')\n",
    "                self.attn_1 = nn.Linear(2 * 2, 1)\n",
    "                nn_init(self.attn_1, 'xavier')\n",
    "            elif attnnet.startswith('no_dep_'):\n",
    "                self.attn_0 = nn.Linear(proj_embed_sz, 2)\n",
    "                nn_init(self.attn_0, 'xavier')\n",
    "                self.attn_1 = nn.Linear(2, 1)\n",
    "                nn_init(self.attn_1, 'xavier')\n",
    "\n",
    "        self.dropout = nn.Dropout(p=emb_dropout)\n",
    "        \n",
    "    def forward(self, seq_nums):\n",
    "        projected = [self.projectors[name](self.embedders[name](seq_nums)) for name in self.emb_names]\n",
    "\n",
    "        if self.attnnet == 'none':\n",
    "            out = sum(projected)\n",
    "        else:\n",
    "            projected_cat = torch.cat([p.unsqueeze(2) for p in projected], 2)\n",
    "            s_len, b_size, _, emb_dim = projected_cat.size()\n",
    "            attn_input = projected_cat\n",
    "\n",
    "            if self.attnnet.startswith('dep_'):\n",
    "                attn_input = attn_input.view(s_len, b_size * self.n_emb, -1)\n",
    "                self.m_attn = self.attn_1(self.attn_0(attn_input)[0])\n",
    "                self.m_attn = self.m_attn.view(s_len, b_size, self.n_emb)\n",
    "            elif self.attnnet.startswith('no_dep_'):\n",
    "                self.m_attn = self.attn_1(self.attn_0(attn_input)).squeeze(3)\n",
    "\n",
    "            if self.attnnet.endswith('_gating'):\n",
    "                self.m_attn = torch.sigmoid(self.m_attn)\n",
    "            elif self.attnnet.endswith('_softmax'):\n",
    "                self.m_attn = F.softmax(self.m_attn, dim=2)\n",
    "\n",
    "            attended = projected_cat * self.m_attn.view(s_len, b_size, self.n_emb, 1).expand_as(projected_cat)\n",
    "            out = attended.sum(2)\n",
    "\n",
    "        if self.nonlin == 'relu':\n",
    "            out = F.relu(out)\n",
    "        if emb_dropout > 0.0:\n",
    "            out = self.dropout(out)\n",
    "        return out\n",
    "    \n",
    "def get_embedder():\n",
    "    return ProjSumEmbedder1(attnnet,embeds,proj_embed_sz)\n",
    "\n",
    "def bestThresshold(y_train,train_preds):\n",
    "    y_train = y_train.cpu()\n",
    "    tmp = [0,0,0] # idx, cur, max\n",
    "    delta = 0\n",
    "    for tmp[0] in np.arange(0.05, 0.801, 0.01):\n",
    "        tmp[1] = f1_score(y_train, np.array(train_preds)>tmp[0])\n",
    "        if tmp[1] > tmp[2]:\n",
    "            delta = tmp[0]\n",
    "            tmp[2] = tmp[1]\n",
    "    print('best threshold is {:.4f} with F1 score: {:.4f}'.format(delta, tmp[2]))\n",
    "    return delta\n",
    "\n",
    "class FocalLoss(nn.Module):\n",
    "    def __init__(self, alpha=0.5, gamma=1, logits=True, reduction='elementwise_mean'):\n",
    "        super(FocalLoss, self).__init__()\n",
    "        self.alpha = alpha\n",
    "        self.gamma = gamma\n",
    "        self.logits = logits\n",
    "        self.reduction = reduction\n",
    "\n",
    "    def forward(self, inputs, targets):\n",
    "        if self.logits:\n",
    "            BCE_loss = F.binary_cross_entropy_with_logits(inputs, targets, reduction='none')\n",
    "        else:\n",
    "            BCE_loss = F.binary_cross_entropy(inputs, targets, reduction='none')\n",
    "        pt = torch.exp(-BCE_loss)\n",
    "        F_loss = self.alpha * (1-pt)**self.gamma * BCE_loss\n",
    "\n",
    "        if self.reduction is None:\n",
    "            return F_loss\n",
    "        else:\n",
    "            return torch.mean(F_loss)"
   ]
  },
  {
   "cell_type": "code",
   "execution_count": null,
   "metadata": {
    "_uuid": "d18d5ff572f56486bc350c5612631e2060023dde"
   },
   "outputs": [],
   "source": [
    "###define models here\n",
    "# Define train_fn"
   ]
  },
  {
   "cell_type": "code",
   "execution_count": null,
   "metadata": {
    "_uuid": "669af62085ce139d0184403dac2545f2f2f57422"
   },
   "outputs": [],
   "source": [
    "class NeuralNet_merge_attn_concat(nn.Module):\n",
    "    def __init__(self):\n",
    "        super(NeuralNet_merge_attn_concat, self).__init__()\n",
    "        \n",
    "        fc_layer = 16\n",
    "        fc_layer1 = 16\n",
    "\n",
    "        self.embedding = nn.Embedding(max_features, 600)\n",
    "        self.embedding.weight = nn.Parameter(torch.tensor(embedding_matrix_concat, dtype=torch.float32))\n",
    "        self.embedding.weight.requires_grad = False\n",
    "        \n",
    "        self.embedding_dropout = nn.Dropout2d(0.1)\n",
    "        self.lstm = nn.LSTM(600, hidden_size, bidirectional=True, batch_first=True)\n",
    "        self.gru = nn.GRU(hidden_size * 2, hidden_size, bidirectional=True, batch_first=True)\n",
    "\n",
    "        self.lstm2 = nn.LSTM(hidden_size * 2, hidden_size, bidirectional=True, batch_first=True)\n",
    "\n",
    "        self.lstm_attention = Attention(hidden_size * 2, maxlen)\n",
    "        self.gru_attention = Attention(hidden_size * 2, maxlen)\n",
    "        self.bn = nn.BatchNorm1d(16, momentum=0.5)\n",
    "        self.linear = nn.Linear(hidden_size*8+8, fc_layer1) #643:80 - 483:60 - 323:40\n",
    "        self.relu = nn.ReLU()\n",
    "        self.dropout = nn.Dropout(0.1)\n",
    "        self.fc = nn.Linear(fc_layer**2,fc_layer)\n",
    "        self.out = nn.Linear(fc_layer, 1)\n",
    "        self.lincaps = nn.Linear(Num_capsule * Dim_capsule, 1)\n",
    "        self.caps_layer = Caps_Layer()\n",
    "    \n",
    "    def forward(self, x):\n",
    "        \n",
    "#         Capsule(num_capsule=10, dim_capsule=10, routings=4, share_weights=True)(x)\n",
    "\n",
    "        h_embedding = self.embedding(x[0])\n",
    "        h_embedding = torch.squeeze(self.embedding_dropout(torch.unsqueeze(h_embedding, 0)))\n",
    "        \n",
    "        h_lstm, _ = self.lstm(h_embedding)\n",
    "        h_gru, _ = self.gru(h_lstm)\n",
    "\n",
    "        ##Capsule Layer        \n",
    "        content3 = self.caps_layer(h_gru)\n",
    "        content3 = self.dropout(content3)\n",
    "        batch_size = content3.size(0)\n",
    "        content3 = content3.view(batch_size, -1)\n",
    "        content3 = self.relu(self.lincaps(content3))\n",
    "\n",
    "        ##Attention Layer\n",
    "        h_lstm_atten = self.lstm_attention(h_lstm)\n",
    "        h_gru_atten = self.gru_attention(h_gru)\n",
    "        \n",
    "        # global average pooling\n",
    "        avg_pool = torch.mean(h_gru, 1)\n",
    "        # global max pooling\n",
    "        max_pool, _ = torch.max(h_gru, 1)\n",
    "        \n",
    "        f = torch.tensor(x[1], dtype=torch.float).cuda() #[512,160]\n",
    "        conc = torch.cat((h_lstm_atten, h_gru_atten,content3, avg_pool, max_pool,f), 1)\n",
    "        conc = self.relu(self.linear(conc))\n",
    "        conc = self.bn(conc)\n",
    "        conc = self.dropout(conc)\n",
    "        out = self.out(conc)\n",
    "        \n",
    "        return out\n",
    "##################################################################################\n",
    "class NeuralNet_merge_attn_mean(nn.Module):\n",
    "    def __init__(self):\n",
    "        super(NeuralNet_merge_attn_mean, self).__init__()\n",
    "        \n",
    "        fc_layer = 16\n",
    "        fc_layer1 = 16\n",
    "\n",
    "        self.embedding = nn.Embedding(max_features, 300)\n",
    "        self.embedding.weight = nn.Parameter(torch.tensor(embedding_matrix_mean, dtype=torch.float32))\n",
    "        self.embedding.weight.requires_grad = False\n",
    "        \n",
    "        self.embedding_dropout = nn.Dropout2d(0.1)\n",
    "        self.lstm = nn.LSTM(300, hidden_size, bidirectional=True, batch_first=True)\n",
    "        self.gru = nn.GRU(hidden_size * 2, hidden_size, bidirectional=True, batch_first=True)\n",
    "\n",
    "        self.lstm2 = nn.LSTM(hidden_size * 2, hidden_size, bidirectional=True, batch_first=True)\n",
    "\n",
    "        self.lstm_attention = Attention(hidden_size * 2, maxlen)\n",
    "        self.gru_attention = Attention(hidden_size * 2, maxlen)\n",
    "        self.bn = nn.BatchNorm1d(16, momentum=0.5)\n",
    "        self.linear = nn.Linear(hidden_size*8+8, fc_layer1) #643:80 - 483:60 - 323:40\n",
    "        self.relu = nn.ReLU()\n",
    "        self.dropout = nn.Dropout(0.1)\n",
    "        self.fc = nn.Linear(fc_layer**2,fc_layer)\n",
    "        self.out = nn.Linear(fc_layer, 1)\n",
    "        self.lincaps = nn.Linear(Num_capsule * Dim_capsule, 1)\n",
    "        self.caps_layer = Caps_Layer()\n",
    "    \n",
    "    def forward(self, x):\n",
    "        \n",
    "#         Capsule(num_capsule=10, dim_capsule=10, routings=4, share_weights=True)(x)\n",
    "\n",
    "        h_embedding = self.embedding(x[0])\n",
    "        h_embedding = torch.squeeze(\n",
    "            self.embedding_dropout(torch.unsqueeze(h_embedding, 0)))\n",
    "        \n",
    "        h_lstm, _ = self.lstm(h_embedding)\n",
    "        h_gru, _ = self.gru(h_lstm)\n",
    "\n",
    "        ##Capsule Layer        \n",
    "        content3 = self.caps_layer(h_gru)\n",
    "        content3 = self.dropout(content3)\n",
    "        batch_size = content3.size(0)\n",
    "        content3 = content3.view(batch_size, -1)\n",
    "        content3 = self.relu(self.lincaps(content3))\n",
    "\n",
    "        ##Attention Layer\n",
    "        h_lstm_atten = self.lstm_attention(h_lstm)\n",
    "        h_gru_atten = self.gru_attention(h_gru)\n",
    "        \n",
    "        # global average pooling\n",
    "        avg_pool = torch.mean(h_gru, 1)\n",
    "        # global max pooling\n",
    "        max_pool, _ = torch.max(h_gru, 1)\n",
    "        \n",
    "        f = torch.tensor(x[1], dtype=torch.float).cuda()\n",
    "\n",
    "                #[512,160]\n",
    "        conc = torch.cat((h_lstm_atten, h_gru_atten,content3, avg_pool, max_pool,f), 1)\n",
    "        conc = self.relu(self.linear(conc))\n",
    "        conc = self.bn(conc)\n",
    "        conc = self.dropout(conc)\n",
    "\n",
    "        out = self.out(conc)\n",
    "        \n",
    "        return out\n",
    "    ######################################################################################3\n",
    "\n",
    "class NeuralNet_DME_2(nn.Module):\n",
    "    def __init__(self):\n",
    "        super(NeuralNet_DME_2, self).__init__()\n",
    "        self.embedding = get_embedder()\n",
    "        \n",
    "        fc_layer = 16\n",
    "        fc_layer1 = 16\n",
    "        \n",
    "        self.embedding_dropout = nn.Dropout2d(0.1)\n",
    "        self.lstm = nn.LSTM(300, hidden_size, bidirectional=True, batch_first=True)\n",
    "        self.gru = nn.GRU(hidden_size * 2, hidden_size, bidirectional=True, batch_first=True)\n",
    "\n",
    "        self.lstm2 = nn.LSTM(hidden_size * 2, hidden_size, bidirectional=True, batch_first=True)\n",
    "\n",
    "        self.lstm_attention = Attention(hidden_size * 2, maxlen)\n",
    "        self.gru_attention = Attention(hidden_size * 2, maxlen)\n",
    "        self.bn = nn.BatchNorm1d(16, momentum=0.5)\n",
    "        self.linear = nn.Linear(hidden_size*8+8, fc_layer1) #643:80 - 483:60 - 323:40\n",
    "        self.relu = nn.ReLU()\n",
    "        self.dropout = nn.Dropout(0.1)\n",
    "        self.fc = nn.Linear(fc_layer**2,fc_layer)\n",
    "        self.out = nn.Linear(fc_layer, 1)\n",
    "        self.lincaps = nn.Linear(Num_capsule * Dim_capsule, 1)\n",
    "        self.caps_layer = Caps_Layer()\n",
    "\n",
    "        \n",
    "    def forward(self, x):\n",
    "        h_embedding = self.embedding(x[0])\n",
    "        \n",
    "        h_embedding = torch.squeeze(\n",
    "            self.embedding_dropout(torch.unsqueeze(h_embedding, 0)))\n",
    "        \n",
    "        h_lstm, _ = self.lstm(h_embedding)\n",
    "        h_gru, _ = self.gru(h_lstm)\n",
    "\n",
    "        ##Capsule Layer        \n",
    "        content3 = self.caps_layer(h_gru)\n",
    "        content3 = self.dropout(content3)\n",
    "        batch_size = content3.size(0)\n",
    "        content3 = content3.view(batch_size, -1)\n",
    "        content3 = self.relu(self.lincaps(content3))\n",
    "\n",
    "        ##Attention Layer\n",
    "        h_lstm_atten = self.lstm_attention(h_lstm)\n",
    "        h_gru_atten = self.gru_attention(h_gru)\n",
    "        \n",
    "        # global average pooling\n",
    "        avg_pool = torch.mean(h_gru, 1)\n",
    "        # global max pooling\n",
    "        max_pool, _ = torch.max(h_gru, 1)\n",
    "        \n",
    "        f = torch.tensor(x[1], dtype=torch.float).cuda()\n",
    "\n",
    "        conc = torch.cat((h_lstm_atten, h_gru_atten,content3, avg_pool, max_pool,f), 1)\n",
    "        conc = self.relu(self.linear(conc))\n",
    "        conc = self.bn(conc)\n",
    "        conc = self.dropout(conc)\n",
    "\n",
    "        out = self.out(conc)\n",
    "        \n",
    "        return out"
   ]
  },
  {
   "cell_type": "code",
   "execution_count": null,
   "metadata": {
    "_uuid": "b3040613229ee164b44779778651a3a493ac788e"
   },
   "outputs": [],
   "source": [
    "seed_everything()\n",
    "def train_test_split_by_idx(len_X,ratio):\n",
    "    random_idx = np.random.permutation(len_X)\n",
    "    loc = int(len_X*ratio)\n",
    "    train_idx = random_idx[:loc]\n",
    "    test_idx = random_idx[loc:]\n",
    "    return train_idx, test_idx"
   ]
  },
  {
   "cell_type": "code",
   "execution_count": null,
   "metadata": {
    "_uuid": "f34e9e36d0f8864b5f9cc80101d1089b0a3fe66e"
   },
   "outputs": [],
   "source": [
    "x_test_cuda = torch.tensor(x_test, dtype=torch.long).cuda()\n",
    "test = torch.utils.data.TensorDataset(x_test_cuda)\n",
    "\n",
    "x_test_cuda_rev = torch.tensor(x_test_rev, dtype=torch.long).cuda()\n",
    "test_rev = torch.utils.data.TensorDataset(x_test_cuda_rev)\n",
    "\n",
    "# test_loader = torch.utils.data.DataLoader(test, batch_size=batch_size, shuffle=False)\n",
    "# test_loader_rev = torch.utils.data.DataLoader(test_rev, batch_size=batch_size, shuffle=False)\n",
    "\n",
    "x_train = np.array(x_train)\n",
    "y_train = np.array(y_train)\n",
    "features = np.array(features)\n",
    "\n",
    "#Train val split\n",
    "train_idx,valid_idx = train_test_split_by_idx(len(x_train),0.9)\n",
    "\n",
    "x_train_fold = torch.tensor(x_train[train_idx.astype(int)], dtype=torch.long).cuda()\n",
    "y_train_fold = torch.tensor(y_train[train_idx.astype(int), np.newaxis], dtype=torch.float32).cuda()\n",
    "kfold_X_features = features[train_idx.astype(int)]\n",
    "\n",
    "kfold_X_valid_features = features[valid_idx.astype(int)]\n",
    "x_val_fold = torch.tensor(x_train[valid_idx.astype(int)], dtype=torch.long).cuda()\n",
    "y_val_fold = torch.tensor(y_train[valid_idx.astype(int), np.newaxis], dtype=torch.float32).cuda()\n",
    "\n",
    "train = torch.utils.data.TensorDataset(x_train_fold, y_train_fold)\n",
    "valid = torch.utils.data.TensorDataset(x_val_fold, y_val_fold)\n",
    "\n",
    "train = MyDataset(train)\n",
    "valid = MyDataset(valid)\n",
    "# y_val_fold"
   ]
  },
  {
   "cell_type": "code",
   "execution_count": null,
   "metadata": {
    "_uuid": "c2ab1b5a712eaeb39a33da70825a36085799b6c5"
   },
   "outputs": [],
   "source": [
    "# REV\n",
    "x_train_rev = np.array(x_train_rev)\n",
    "\n",
    "x_train_rev_fold = torch.tensor(x_train_rev[train_idx.astype(int)], dtype=torch.long).cuda()\n",
    "x_val_rev_fold = torch.tensor(x_train_rev[valid_idx.astype(int)], dtype=torch.long).cuda()\n",
    "\n",
    "train_rev = torch.utils.data.TensorDataset(x_train_rev_fold, y_train_fold)\n",
    "valid_rev = torch.utils.data.TensorDataset(x_val_rev_fold, y_val_fold)\n",
    "\n",
    "train_rev = MyDataset(train_rev)\n",
    "valid_rev = MyDataset(valid_rev)"
   ]
  },
  {
   "cell_type": "code",
   "execution_count": null,
   "metadata": {
    "_uuid": "0a9715b51f0f9dbdcc3be75920a49f60b76ccc5f"
   },
   "outputs": [],
   "source": [
    "bce_loss = torch.nn.BCEWithLogitsLoss(reduction='sum')\n",
    "focal_loss = FocalLoss()"
   ]
  },
  {
   "cell_type": "code",
   "execution_count": 114,
   "metadata": {
    "_uuid": "77f5079ac1381052a3ce881e972139a22717d938"
   },
   "outputs": [],
   "source": [
    "def train_fn(model,train,valid,features,x_test,batch_size,loss_function,ratio,n_epochs):\n",
    "    train_time = time.time()\n",
    "    avg_losses_f = []\n",
    "    avg_val_losses_f = []\n",
    "    \n",
    "    train_loader = torch.utils.data.DataLoader(train, batch_size=batch_size, shuffle=False)\n",
    "    valid_loader = torch.utils.data.DataLoader(valid, batch_size=batch_size, shuffle=False)\n",
    "    test_loader = torch.utils.data.DataLoader(test, batch_size=batch_size, shuffle=False)\n",
    "\n",
    "    val_preds = np.zeros((len(valid)))\n",
    "    test_preds = np.zeros((len(x_test)))\n",
    "    \n",
    "    model = model.cuda()\n",
    "\n",
    "    loss_fn = loss_function\n",
    "    \n",
    "    step_size = 300\n",
    "    base_lr, max_lr = 0.001, 0.003   \n",
    "    optimizer = torch.optim.Adam(filter(lambda p: p.requires_grad, model.parameters()), \n",
    "                             lr=max_lr)\n",
    "\n",
    "    ################################################################################################\n",
    "    scheduler = CyclicLR(optimizer, base_lr=base_lr, max_lr=max_lr,\n",
    "               step_size=step_size, mode='exp_range',\n",
    "               gamma=0.99994)\n",
    "    ###############################################################################################\n",
    "    \n",
    "    for epoch in range(n_epochs):\n",
    "        model.train()\n",
    "        print('Start Epoch : '+ str(epoch+1) + '/'+str(n_epochs))\n",
    "        # set train mode of the model. This enables operations which are only applied during training like dropout\n",
    "        start_time = time.time()\n",
    "        avg_loss = 0.  \n",
    "        for i, (x_batch, y_batch, index) in enumerate(train_loader):\n",
    "            # Forward pass: compute predicted y by passing x to the model.\n",
    "            ################################################################################################            \n",
    "            f = kfold_X_features[index]\n",
    "#                 y_pred = model([x_batch,f])\n",
    "            y_pred = model([x_batch,f])\n",
    "            ################################################################################################\n",
    "\n",
    "            ################################################################################################\n",
    "\n",
    "            if scheduler:\n",
    "                scheduler.batch_step()\n",
    "            ################################################################################################\n",
    "\n",
    "\n",
    "            # Compute and print loss.\n",
    "            loss = loss_fn(y_pred, y_batch)\n",
    "\n",
    "            # Before the backward pass, use the optimizer object to zero all of the\n",
    "            # gradients for the Tensors it will update (which are the learnable weights\n",
    "            # of the model)\n",
    "            optimizer.zero_grad()\n",
    "\n",
    "            # Backward pass: compute gradient of the loss with respect to model parameters\n",
    "            loss.backward()\n",
    "\n",
    "            # Calling the step function on an Optimizer makes an update to its parameters\n",
    "            optimizer.step()\n",
    "            avg_loss += loss.item() / len(train_loader)\n",
    "\n",
    "        model.eval()\n",
    "        valid_preds_fold = np.zeros((len(valid)))\n",
    "        test_preds_fold = np.zeros((len(x_test)))\n",
    "\n",
    "        avg_val_loss = 0.\n",
    "        for i, (x_batch, y_batch, index) in enumerate(valid_loader):\n",
    "            f = kfold_X_valid_features[index]\n",
    "            y_pred = model([x_batch,f]).detach()\n",
    "            avg_val_loss += loss_fn(y_pred, y_batch).item() / len(valid_loader)\n",
    "            valid_preds_fold[i * batch_size:(i+1) * batch_size] = sigmoid(y_pred.cpu().numpy())[:, 0]\n",
    "\n",
    "        elapsed_time = time.time() - start_time \n",
    "        \n",
    "        print('Epoch {}/{} \\t loss={:.4f} \\t val_loss={:.4f} \\t time={:.2f}s'.format(\n",
    "                epoch + 1, n_epochs, avg_loss, avg_val_loss, elapsed_time))\n",
    "    avg_losses_f.append(avg_loss)\n",
    "    avg_val_losses_f.append(avg_val_loss) \n",
    "        \n",
    "    for i, (x_batch,) in enumerate(test_loader):\n",
    "        f = test_features[i * batch_size:(i+1) * batch_size]\n",
    "        y_pred = model([x_batch,f]).detach()\n",
    "\n",
    "        test_preds_fold[i * batch_size:(i+1) * batch_size] = sigmoid(y_pred.cpu().numpy())[:, 0]\n",
    "    \n",
    "    del model\n",
    "    torch.cuda.empty_cache()\n",
    "    print('All \\t loss={:.5f} \\t val_loss={:.5f} \\t '.format(np.average(avg_losses_f),np.average(avg_val_losses_f)))\n",
    "    print(time.time()-train_time)\n",
    "    return valid_preds_fold,test_preds_fold"
   ]
  },
  {
   "cell_type": "code",
   "execution_count": 108,
   "metadata": {
    "_uuid": "71d80988a8d7a048be37fdf469eede657cf45752"
   },
   "outputs": [
    {
     "name": "stdout",
     "output_type": "stream",
     "text": [
      "Start Epoch : 1/4\n",
      "Epoch 1/4 \t loss=0.0333 \t val_loss=0.0268 \t time=323.45s\n",
      "Start Epoch : 2/4\n",
      "Epoch 2/4 \t loss=0.0287 \t val_loss=0.0259 \t time=323.79s\n",
      "Start Epoch : 3/4\n",
      "Epoch 3/4 \t loss=0.0270 \t val_loss=0.0251 \t time=322.71s\n",
      "Start Epoch : 4/4\n",
      "Epoch 4/4 \t loss=0.0257 \t val_loss=0.0258 \t time=322.00s\n",
      "All \t loss=0.02568 \t val_loss=0.02582 \t \n"
     ]
    }
   ],
   "source": [
    "# batch_size = 256\n",
    "# val_preds_1,test_preds_1 = train_fn(NeuralNet_merge_attn_mean(),train,valid,features,x_test,batch_size,focal_loss,0.9,4)"
   ]
  },
  {
   "cell_type": "code",
   "execution_count": 110,
   "metadata": {
    "_uuid": "7105fa299ad9cffe21e4575cc65fead70faba167"
   },
   "outputs": [
    {
     "name": "stdout",
     "output_type": "stream",
     "text": [
      "Start Epoch : 1/3\n",
      "Epoch 1/3 \t loss=0.0349 \t val_loss=0.0266 \t time=320.86s\n",
      "Start Epoch : 2/3\n",
      "Epoch 2/3 \t loss=0.0287 \t val_loss=0.0255 \t time=319.92s\n",
      "Start Epoch : 3/3\n",
      "Epoch 3/3 \t loss=0.0271 \t val_loss=0.0254 \t time=322.40s\n",
      "All \t loss=0.02714 \t val_loss=0.02536 \t \n",
      "968.594315290451\n"
     ]
    }
   ],
   "source": [
    "batch_size = 256\n",
    "val_preds_2,test_preds_2 = train_fn(NeuralNet_merge_attn_mean(),train_rev,valid_rev,features,x_test,batch_size,focal_loss,0.9,3)"
   ]
  },
  {
   "cell_type": "code",
   "execution_count": 111,
   "metadata": {
    "_uuid": "391edccb6d088792d4e03bb73651c0a182742e7f"
   },
   "outputs": [
    {
     "name": "stdout",
     "output_type": "stream",
     "text": [
      "best threshold is 0.3600 with F1 score: 0.6812\n"
     ]
    }
   ],
   "source": [
    "delta2 = bestThresshold(y_val_fold,val_preds_2)\n",
    "bin_test_pred_2 = (test_preds_2 > delta2).astype(int)\n",
    "bin_val_pred_2 = (val_preds_2 > delta2).astype(int)"
   ]
  },
  {
   "cell_type": "code",
   "execution_count": 113,
   "metadata": {
    "_uuid": "8214b47a01de7af3d4a48aab6d03808396ca56d8"
   },
   "outputs": [
    {
     "name": "stdout",
     "output_type": "stream",
     "text": [
      "Start Epoch : 1/3\n",
      "Epoch 1/3 \t loss=0.0338 \t val_loss=0.0261 \t time=362.57s\n",
      "Start Epoch : 2/3\n",
      "Epoch 2/3 \t loss=0.0282 \t val_loss=0.0252 \t time=361.97s\n",
      "Start Epoch : 3/3\n",
      "Epoch 3/3 \t loss=0.0263 \t val_loss=0.0254 \t time=362.11s\n",
      "All \t loss=0.02625 \t val_loss=0.02540 \t \n",
      "1092.7241508960724\n"
     ]
    }
   ],
   "source": [
    "batch_size = 256\n",
    "val_preds_3,test_preds_3 = train_fn(NeuralNet_merge_attn_concat(),train,valid,features,x_test,batch_size,focal_loss,0.9,3)"
   ]
  },
  {
   "cell_type": "code",
   "execution_count": 115,
   "metadata": {
    "_uuid": "35d54b623dca0fb8957106a8ef9448d268d5917d"
   },
   "outputs": [
    {
     "name": "stdout",
     "output_type": "stream",
     "text": [
      "best threshold is 0.3800 with F1 score: 0.6794\n"
     ]
    }
   ],
   "source": [
    "delta3 = bestThresshold(y_val_fold,val_preds_3)\n",
    "bin_test_pred_3 = (test_preds_3 > delta3).astype(int)\n",
    "bin_val_pred_3 = (val_preds_3 > delta3).astype(int)"
   ]
  },
  {
   "cell_type": "code",
   "execution_count": null,
   "metadata": {
    "_uuid": "ffd7cd3efb85111fb25e0e8014d6c6316a6fe40c"
   },
   "outputs": [],
   "source": [
    "# batch_size = 512\n",
    "# val_preds_4,test_preds_4 = train_fn(NeuralNet_merge_attn_concat(),train_rev,valid_rev,features,x_test,batch_size,focal_loss,0.9,1)"
   ]
  },
  {
   "cell_type": "code",
   "execution_count": null,
   "metadata": {
    "_uuid": "669c817d288dd0dc699c55b40d349830ee2acadc"
   },
   "outputs": [],
   "source": [
    "# batch_size = 512\n",
    "# val_preds_5,test_preds_5 = train_fn(NeuralNet_DME_2(),train_rev,valid_rev,features,x_test,batch_size,focal_loss,0.9,5)"
   ]
  },
  {
   "cell_type": "code",
   "execution_count": 135,
   "metadata": {
    "_uuid": "4d088af2814d181e8725e0617a5c129be0e9e012"
   },
   "outputs": [
    {
     "name": "stdout",
     "output_type": "stream",
     "text": [
      "best threshold is 0.3900 with F1 score: 0.6606\n"
     ]
    }
   ],
   "source": [
    "# delta5 = bestThresshold(y_val_fold,val_preds_5)\n",
    "# bin_test_pred_5 = (test_preds_5 > delta5).astype(int)\n",
    "# bin_val_pred_5 = (val_preds_5 > delta5).astype(int)"
   ]
  },
  {
   "cell_type": "code",
   "execution_count": null,
   "metadata": {
    "_uuid": "9e17bafd8e9329aa9dd059365afac53bbc03297c"
   },
   "outputs": [],
   "source": [
    "batch_size = 512\n",
    "val_preds_6,test_preds_6 = train_fn(NeuralNet_DME_2(),train,valid,features,x_test,batch_size,focal_loss,0.9,5)"
   ]
  },
  {
   "cell_type": "code",
   "execution_count": null,
   "metadata": {
    "_uuid": "1a31a68769122d01ac8137a46af1089d7c90be3a"
   },
   "outputs": [],
   "source": [
    "# delta1 = bestThresshold(y_val_fold,val_preds_1)\n",
    "# bin_test_pred_1 = (test_preds_1 > delta1).astype(int)\n",
    "# bin_val_pred_1 = (val_preds_1 > delta1).astype(int)"
   ]
  },
  {
   "cell_type": "code",
   "execution_count": null,
   "metadata": {
    "_uuid": "74f55d81e78dea0e1a87dbb68e9aaebac70d1ef0"
   },
   "outputs": [],
   "source": [
    "# delta4 = bestThresshold(y_val_fold,val_preds_4)\n",
    "# bin_test_pred_4 = (test_preds_4 > delta4).astype(int)\n",
    "# bin_val_pred_4 = (val_preds_4 > delta4).astype(int)"
   ]
  },
  {
   "cell_type": "code",
   "execution_count": null,
   "metadata": {
    "_uuid": "e47578a5830d7637a2ea1f4184eef1169eb8712c"
   },
   "outputs": [],
   "source": [
    "delta6 = bestThresshold(y_val_fold,val_preds_6)\n",
    "bin_test_pred_6 = (test_preds_6 > delta6).astype(int)\n",
    "bin_val_pred_6 = (val_preds_6 > delta6).astype(int)"
   ]
  },
  {
   "cell_type": "code",
   "execution_count": null,
   "metadata": {
    "_uuid": "ce3c3d5cf7c259c1acb41567734d6d49f7edbed8"
   },
   "outputs": [],
   "source": [
    "from statistics import mode"
   ]
  },
  {
   "cell_type": "code",
   "execution_count": null,
   "metadata": {
    "_uuid": "ff2dc2efb74752d75b04fbe73821a4b152258bc3"
   },
   "outputs": [],
   "source": [
    "final_val_pred = bin_val_pred_2\n",
    "for i in range(len(final_val_pred)):\n",
    "    final_val_pred[i] = mode((bin_val_pred_2[i],bin_val_pred_3[i],bin_val_pred_6[i]))"
   ]
  },
  {
   "cell_type": "code",
   "execution_count": 133,
   "metadata": {
    "_uuid": "acbebd7ea6d2b02cebb0b663b0b716e313e4c772"
   },
   "outputs": [
    {
     "name": "stdout",
     "output_type": "stream",
     "text": [
      "best threshold is 0.0500 with F1 score: 0.6737\n"
     ]
    }
   ],
   "source": [
    "delta_bin = bestThresshold(y_val_fold,final_val_pred)"
   ]
  },
  {
   "cell_type": "code",
   "execution_count": 125,
   "metadata": {
    "_uuid": "5cdf1c980a533014b450b08e428287606cf00210"
   },
   "outputs": [],
   "source": [
    "final_pred_bin = bin_test_pred_2\n",
    "for i in range(len(final_pred_bin)):\n",
    "    final_pred_bin[i] = mode((bin_test_pred_2[i],bin_test_pred_3[i],bin_test_pred_6[i]))"
   ]
  },
  {
   "cell_type": "code",
   "execution_count": 134,
   "metadata": {
    "_uuid": "04f748f31534aa85ba357c4b72858565355d4398"
   },
   "outputs": [
    {
     "name": "stdout",
     "output_type": "stream",
     "text": [
      "best threshold is 0.3800 with F1 score: 0.6868\n"
     ]
    }
   ],
   "source": [
    "final_val_pred_mean = np.mean([val_preds_2,val_preds_3,val_preds_6],axis = 0)\n",
    "delta_mean = bestThresshold(y_val_fold,final_val_pred_mean)\n",
    "# final_test_pred_mean = np.mean([test_preds_2,test_preds_3,test_preds_5],axis = 0)"
   ]
  },
  {
   "cell_type": "code",
   "execution_count": 129,
   "metadata": {
    "_uuid": "c8c9fc8636eb17ffbd825f659cf02b5fc5d3233d"
   },
   "outputs": [],
   "source": [
    "df_test = pd.read_csv(\"../input/test.csv\")\n",
    "submission = df_test[['qid']].copy()\n",
    "# submission['prediction'] = (final_test_pred_mean > delta_mean).astype(int)\n",
    "submission['prediction'] = final_pred_bin\n",
    "submission.to_csv('submission.csv', index=False)"
   ]
  },
  {
   "cell_type": "code",
   "execution_count": 130,
   "metadata": {
    "_uuid": "cf6ee0843a53b75ed2589a9130dcade168c63a07"
   },
   "outputs": [
    {
     "name": "stdout",
     "output_type": "stream",
     "text": [
      "qid,prediction\r\n",
      "00014894849d00ba98a9,0\r\n",
      "000156468431f09b3cae,0\r\n",
      "000227734433360e1aae,0\r\n",
      "0005e06fbe3045bd2a92,0\r\n",
      "00068a0f7f41f50fc399,0\r\n",
      "000a2d30e3ffd70c070d,0\r\n",
      "000b67672ec9622ff761,0\r\n",
      "000b7fb1146d712c1105,0\r\n",
      "000d665a8ddc426a1907,0\r\n"
     ]
    }
   ],
   "source": [
    "! head submission.csv"
   ]
  },
  {
   "cell_type": "code",
   "execution_count": null,
   "metadata": {
    "_uuid": "1f2021ca3b79f920052a0df00cbef67b953ba6d3"
   },
   "outputs": [],
   "source": []
  }
 ],
 "metadata": {
  "kernelspec": {
   "display_name": "Python 3.6",
   "language": "python",
   "name": "python3"
  },
  "language_info": {
   "codemirror_mode": {
    "name": "ipython",
    "version": 3
   },
   "file_extension": ".py",
   "mimetype": "text/x-python",
   "name": "python",
   "nbconvert_exporter": "python",
   "pygments_lexer": "ipython3",
   "version": "3.6.7"
  }
 },
 "nbformat": 4,
 "nbformat_minor": 1
}
