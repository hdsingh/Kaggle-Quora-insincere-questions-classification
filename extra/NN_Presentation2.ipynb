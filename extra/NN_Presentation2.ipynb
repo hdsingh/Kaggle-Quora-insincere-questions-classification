{
 "cells": [
  {
   "cell_type": "code",
   "execution_count": 1,
   "metadata": {},
   "outputs": [],
   "source": [
    "import matplotlib.pyplot as plt\n",
    "import numpy as np\n",
    "import os\n",
    "import sys\n",
    "from math import floor\n",
    "from IPython.display import display, Image\n",
    "from util2 import maybe_extract, maybe_pickle, showProcessedRandom, merge_datasets, randomize\n",
    "%matplotlib inline"
   ]
  },
  {
   "cell_type": "code",
   "execution_count": 2,
   "metadata": {},
   "outputs": [
    {
     "name": "stdout",
     "output_type": "stream",
     "text": [
      "notMNIST_large already present - Skipping extraction of notMNIST_large.\n",
      "['notMNIST_large\\\\A', 'notMNIST_large\\\\B', 'notMNIST_large\\\\C', 'notMNIST_large\\\\D', 'notMNIST_large\\\\E', 'notMNIST_large\\\\F', 'notMNIST_large\\\\G', 'notMNIST_large\\\\H', 'notMNIST_large\\\\I', 'notMNIST_large\\\\J']\n",
      "notMNIST_small already present - Skipping extraction of notMNIST_small.\n",
      "['notMNIST_small\\\\A', 'notMNIST_small\\\\B', 'notMNIST_small\\\\C', 'notMNIST_small\\\\D', 'notMNIST_small\\\\E', 'notMNIST_small\\\\F', 'notMNIST_small\\\\G', 'notMNIST_small\\\\H', 'notMNIST_small\\\\I', 'notMNIST_small\\\\J']\n",
      "U:\\Deep Learning\\dl\\notMNIST_large\\A/a29ydW5pc2hpLnR0Zg==.png\n"
     ]
    },
    {
     "data": {
      "image/png": "[encoded data removed]",
      "text/plain": [
       "<IPython.core.display.Image object>"
      ]
     },
     "metadata": {},
     "output_type": "display_data"
    },
    {
     "name": "stdout",
     "output_type": "stream",
     "text": [
      "U:\\Deep Learning\\dl\\notMNIST_large\\A/QSBGb250IHdpdGggU2VyaWZzLnR0Zg==.png\n"
     ]
    },
    {
     "data": {
      "image/png": "[encoded data removed]",
      "text/plain": [
       "<IPython.core.display.Image object>"
      ]
     },
     "metadata": {},
     "output_type": "display_data"
    },
    {
     "name": "stdout",
     "output_type": "stream",
     "text": [
      "U:\\Deep Learning\\dl\\notMNIST_large\\A/RnJhbmtsaW5Hb3RoaWMtUm9tYW4ub3Rm.png\n"
     ]
    },
    {
     "data": {
      "image/png": "[encoded data removed]",
      "text/plain": [
       "<IPython.core.display.Image object>"
      ]
     },
     "metadata": {},
     "output_type": "display_data"
    },
    {
     "name": "stdout",
     "output_type": "stream",
     "text": [
      "U:\\Deep Learning\\dl\\notMNIST_large\\A/TGFuc2J1cnkudHRm.png\n"
     ]
    },
    {
     "data": {
      "image/png": "[encoded data removed]",
      "text/plain": [
       "<IPython.core.display.Image object>"
      ]
     },
     "metadata": {},
     "output_type": "display_data"
    },
    {
     "name": "stdout",
     "output_type": "stream",
     "text": [
      "U:\\Deep Learning\\dl\\notMNIST_large\\A/U3F1YXJlU2xhYjcxMSBMdCBCVCBNZWRpdW0udHRm.png\n"
     ]
    },
    {
     "data": {
      "image/png": "[encoded data removed]",
      "text/plain": [
       "<IPython.core.display.Image object>"
      ]
     },
     "metadata": {},
     "output_type": "display_data"
    },
    {
     "name": "stdout",
     "output_type": "stream",
     "text": [
      "U:\\Deep Learning\\dl\\notMNIST_large\\A/VlRDR29ibGluSGFuZFNDLnR0Zg==.png\n"
     ]
    },
    {
     "data": {
      "image/png": "[encoded data removed]",
      "text/plain": [
       "<IPython.core.display.Image object>"
      ]
     },
     "metadata": {},
     "output_type": "display_data"
    },
    {
     "name": "stdout",
     "output_type": "stream",
     "text": [
      "U:\\Deep Learning\\dl\\notMNIST_large\\B/a29ydW5pc2hpLnR0Zg==.png\n"
     ]
    },
    {
     "data": {
      "image/png": "[encoded data removed]",
      "text/plain": [
       "<IPython.core.display.Image object>"
      ]
     },
     "metadata": {},
     "output_type": "display_data"
    },
    {
     "name": "stdout",
     "output_type": "stream",
     "text": [
      "U:\\Deep Learning\\dl\\notMNIST_large\\B/QSBGb250IHdpdGggU2VyaWZzLnR0Zg==.png\n"
     ]
    },
    {
     "data": {
      "image/png": "[encoded data removed]",
      "text/plain": [
       "<IPython.core.display.Image object>"
      ]
     },
     "metadata": {},
     "output_type": "display_data"
    },
    {
     "name": "stdout",
     "output_type": "stream",
     "text": [
      "U:\\Deep Learning\\dl\\notMNIST_large\\B/RnJhbmtsaW5Hb3RoaWMtUm9tYW4ub3Rm.png\n"
     ]
    },
    {
     "data": {
      "image/png": "[encoded data removed]",
      "text/plain": [
       "<IPython.core.display.Image object>"
      ]
     },
     "metadata": {},
     "output_type": "display_data"
    },
    {
     "name": "stdout",
     "output_type": "stream",
     "text": [
      "U:\\Deep Learning\\dl\\notMNIST_large\\B/TGFuc2J1cnkudHRm.png\n"
     ]
    },
    {
     "data": {
      "image/png": "[encoded data removed]",
      "text/plain": [
       "<IPython.core.display.Image object>"
      ]
     },
     "metadata": {},
     "output_type": "display_data"
    },
    {
     "name": "stdout",
     "output_type": "stream",
     "text": [
      "U:\\Deep Learning\\dl\\notMNIST_large\\B/U3F1YXJlU2xhYjcxMSBMdCBCVCBNZWRpdW0udHRm.png\n"
     ]
    },
    {
     "data": {
      "image/png": "[encoded data removed]",
      "text/plain": [
       "<IPython.core.display.Image object>"
      ]
     },
     "metadata": {},
     "output_type": "display_data"
    },
    {
     "name": "stdout",
     "output_type": "stream",
     "text": [
      "U:\\Deep Learning\\dl\\notMNIST_large\\B/VlRDR29ibGluSGFuZFNDLnR0Zg==.png\n"
     ]
    },
    {
     "data": {
      "image/png": "[encoded data removed]",
      "text/plain": [
       "<IPython.core.display.Image object>"
      ]
     },
     "metadata": {},
     "output_type": "display_data"
    },
    {
     "name": "stdout",
     "output_type": "stream",
     "text": [
      "U:\\Deep Learning\\dl\\notMNIST_large\\C/a29ydW5pc2hpLnR0Zg==.png\n"
     ]
    },
    {
     "data": {
      "image/png": "[encoded data removed]",
      "text/plain": [
       "<IPython.core.display.Image object>"
      ]
     },
     "metadata": {},
     "output_type": "display_data"
    },
    {
     "name": "stdout",
     "output_type": "stream",
     "text": [
      "U:\\Deep Learning\\dl\\notMNIST_large\\C/QSBGb250IHdpdGggU2VyaWZzLnR0Zg==.png\n"
     ]
    },
    {
     "data": {
      "image/png": "[encoded data removed]",
      "text/plain": [
       "<IPython.core.display.Image object>"
      ]
     },
     "metadata": {},
     "output_type": "display_data"
    },
    {
     "name": "stdout",
     "output_type": "stream",
     "text": [
      "U:\\Deep Learning\\dl\\notMNIST_large\\C/RnJhbmtsaW5Hb3RoaWMtUm9tYW4ub3Rm.png\n"
     ]
    },
    {
     "data": {
      "image/png": "[encoded data removed]",
      "text/plain": [
       "<IPython.core.display.Image object>"
      ]
     },
     "metadata": {},
     "output_type": "display_data"
    },
    {
     "name": "stdout",
     "output_type": "stream",
     "text": [
      "U:\\Deep Learning\\dl\\notMNIST_large\\C/TGFuc2J1cnkudHRm.png\n"
     ]
    },
    {
     "data": {
      "image/png": "[encoded data removed]",
      "text/plain": [
       "<IPython.core.display.Image object>"
      ]
     },
     "metadata": {},
     "output_type": "display_data"
    },
    {
     "name": "stdout",
     "output_type": "stream",
     "text": [
      "U:\\Deep Learning\\dl\\notMNIST_large\\C/U3F1YXJlU2xhYjcxMSBMdCBCVCBNZWRpdW0udHRm.png\n"
     ]
    },
    {
     "data": {
      "image/png": "[encoded data removed]",
      "text/plain": [
       "<IPython.core.display.Image object>"
      ]
     },
     "metadata": {},
     "output_type": "display_data"
    },
    {
     "name": "stdout",
     "output_type": "stream",
     "text": [
      "U:\\Deep Learning\\dl\\notMNIST_large\\C/VlRDR29ibGluSGFuZFNDLnR0Zg==.png\n"
     ]
    },
    {
     "data": {
      "image/png": "[encoded data removed]",
      "text/plain": [
       "<IPython.core.display.Image object>"
      ]
     },
     "metadata": {},
     "output_type": "display_data"
    },
    {
     "name": "stdout",
     "output_type": "stream",
     "text": [
      "U:\\Deep Learning\\dl\\notMNIST_large\\D/a29ydW5pc2hpLnR0Zg==.png\n"
     ]
    },
    {
     "data": {
      "image/png": "[encoded data removed]",
      "text/plain": [
       "<IPython.core.display.Image object>"
      ]
     },
     "metadata": {},
     "output_type": "display_data"
    },
    {
     "name": "stdout",
     "output_type": "stream",
     "text": [
      "U:\\Deep Learning\\dl\\notMNIST_large\\D/QSBGb250IHdpdGggU2VyaWZzLnR0Zg==.png\n"
     ]
    },
    {
     "data": {
      "image/png": "[encoded data removed]",
      "text/plain": [
       "<IPython.core.display.Image object>"
      ]
     },
     "metadata": {},
     "output_type": "display_data"
    },
    {
     "name": "stdout",
     "output_type": "stream",
     "text": [
      "U:\\Deep Learning\\dl\\notMNIST_large\\D/RnJhbmtsaW5Hb3RoaWMtUm9tYW4ub3Rm.png\n"
     ]
    },
    {
     "data": {
      "image/png": "[encoded data removed]",
      "text/plain": [
       "<IPython.core.display.Image object>"
      ]
     },
     "metadata": {},
     "output_type": "display_data"
    },
    {
     "name": "stdout",
     "output_type": "stream",
     "text": [
      "U:\\Deep Learning\\dl\\notMNIST_large\\D/TGFuc2J1cnkudHRm.png\n"
     ]
    },
    {
     "data": {
      "image/png": "[encoded data removed]",
      "text/plain": [
       "<IPython.core.display.Image object>"
      ]
     },
     "metadata": {},
     "output_type": "display_data"
    },
    {
     "name": "stdout",
     "output_type": "stream",
     "text": [
      "U:\\Deep Learning\\dl\\notMNIST_large\\D/U3F1YXJlU2xhYjcxMSBMdCBCVCBNZWRpdW0udHRm.png\n"
     ]
    },
    {
     "data": {
      "image/png": "[encoded data removed]",
      "text/plain": [
       "<IPython.core.display.Image object>"
      ]
     },
     "metadata": {},
     "output_type": "display_data"
    },
    {
     "name": "stdout",
     "output_type": "stream",
     "text": [
      "U:\\Deep Learning\\dl\\notMNIST_large\\D/VlRDR29ibGluSGFuZFNDLnR0Zg==.png\n"
     ]
    },
    {
     "data": {
      "image/png": "[encoded data removed]",
      "text/plain": [
       "<IPython.core.display.Image object>"
      ]
     },
     "metadata": {},
     "output_type": "display_data"
    },
    {
     "name": "stdout",
     "output_type": "stream",
     "text": [
      "U:\\Deep Learning\\dl\\notMNIST_large\\E/a29ydW5pc2hpLnR0Zg==.png\n"
     ]
    },
    {
     "data": {
      "image/png": "[encoded data removed]",
      "text/plain": [
       "<IPython.core.display.Image object>"
      ]
     },
     "metadata": {},
     "output_type": "display_data"
    },
    {
     "name": "stdout",
     "output_type": "stream",
     "text": [
      "U:\\Deep Learning\\dl\\notMNIST_large\\E/QSBGb250IHdpdGggU2VyaWZzLnR0Zg==.png\n"
     ]
    },
    {
     "data": {
      "image/png": "[encoded data removed]",
      "text/plain": [
       "<IPython.core.display.Image object>"
      ]
     },
     "metadata": {},
     "output_type": "display_data"
    },
    {
     "name": "stdout",
     "output_type": "stream",
     "text": [
      "U:\\Deep Learning\\dl\\notMNIST_large\\E/RnJhbmtsaW5Hb3RoaWMtUm9tYW4ub3Rm.png\n"
     ]
    },
    {
     "data": {
      "image/png": "[encoded data removed]",
      "text/plain": [
       "<IPython.core.display.Image object>"
      ]
     },
     "metadata": {},
     "output_type": "display_data"
    },
    {
     "name": "stdout",
     "output_type": "stream",
     "text": [
      "U:\\Deep Learning\\dl\\notMNIST_large\\E/TGFuc2J1cnkudHRm.png\n"
     ]
    },
    {
     "data": {
      "image/png": "[encoded data removed]",
      "text/plain": [
       "<IPython.core.display.Image object>"
      ]
     },
     "metadata": {},
     "output_type": "display_data"
    },
    {
     "name": "stdout",
     "output_type": "stream",
     "text": [
      "U:\\Deep Learning\\dl\\notMNIST_large\\E/U3F1YXJlU2xhYjcxMSBMdCBCVCBNZWRpdW0udHRm.png\n"
     ]
    },
    {
     "data": {
      "image/png": "[encoded data removed]",
      "text/plain": [
       "<IPython.core.display.Image object>"
      ]
     },
     "metadata": {},
     "output_type": "display_data"
    },
    {
     "name": "stdout",
     "output_type": "stream",
     "text": [
      "U:\\Deep Learning\\dl\\notMNIST_large\\E/VlRDR29ibGluSGFuZFNDLnR0Zg==.png\n"
     ]
    },
    {
     "data": {
      "image/png": "[encoded data removed]",
      "text/plain": [
       "<IPython.core.display.Image object>"
      ]
     },
     "metadata": {},
     "output_type": "display_data"
    },
    {
     "name": "stdout",
     "output_type": "stream",
     "text": [
      "U:\\Deep Learning\\dl\\notMNIST_large\\F/a29ydW5pc2hpLnR0Zg==.png\n"
     ]
    },
    {
     "data": {
      "image/png": "[encoded data removed]",
      "text/plain": [
       "<IPython.core.display.Image object>"
      ]
     },
     "metadata": {},
     "output_type": "display_data"
    },
    {
     "name": "stdout",
     "output_type": "stream",
     "text": [
      "U:\\Deep Learning\\dl\\notMNIST_large\\F/QSBGb250IHdpdGggU2VyaWZzLnR0Zg==.png\n"
     ]
    },
    {
     "data": {
      "image/png": "[encoded data removed]",
      "text/plain": [
       "<IPython.core.display.Image object>"
      ]
     },
     "metadata": {},
     "output_type": "display_data"
    },
    {
     "name": "stdout",
     "output_type": "stream",
     "text": [
      "U:\\Deep Learning\\dl\\notMNIST_large\\F/RnJhbmtsaW5Hb3RoaWMtUm9tYW4ub3Rm.png\n"
     ]
    },
    {
     "data": {
      "image/png": "[encoded data removed]",
      "text/plain": [
       "<IPython.core.display.Image object>"
      ]
     },
     "metadata": {},
     "output_type": "display_data"
    },
    {
     "name": "stdout",
     "output_type": "stream",
     "text": [
      "U:\\Deep Learning\\dl\\notMNIST_large\\F/TGFuc2J1cnkudHRm.png\n"
     ]
    },
    {
     "data": {
      "image/png": "[encoded data removed]",
      "text/plain": [
       "<IPython.core.display.Image object>"
      ]
     },
     "metadata": {},
     "output_type": "display_data"
    },
    {
     "name": "stdout",
     "output_type": "stream",
     "text": [
      "U:\\Deep Learning\\dl\\notMNIST_large\\F/U3F1YXJlU2xhYjcxMSBMdCBCVCBNZWRpdW0udHRm.png\n"
     ]
    },
    {
     "data": {
      "image/png": "[encoded data removed]",
      "text/plain": [
       "<IPython.core.display.Image object>"
      ]
     },
     "metadata": {},
     "output_type": "display_data"
    },
    {
     "name": "stdout",
     "output_type": "stream",
     "text": [
      "U:\\Deep Learning\\dl\\notMNIST_large\\F/VlRDR29ibGluSGFuZFNDLnR0Zg==.png\n"
     ]
    },
    {
     "data": {
      "image/png": "[encoded data removed]",
      "text/plain": [
       "<IPython.core.display.Image object>"
      ]
     },
     "metadata": {},
     "output_type": "display_data"
    },
    {
     "name": "stdout",
     "output_type": "stream",
     "text": [
      "U:\\Deep Learning\\dl\\notMNIST_large\\G/a29ydW5pc2hpLnR0Zg==.png\n"
     ]
    },
    {
     "data": {
      "image/png": "[encoded data removed]",
      "text/plain": [
       "<IPython.core.display.Image object>"
      ]
     },
     "metadata": {},
     "output_type": "display_data"
    },
    {
     "name": "stdout",
     "output_type": "stream",
     "text": [
      "U:\\Deep Learning\\dl\\notMNIST_large\\G/QSBGb250IHdpdGggU2VyaWZzLnR0Zg==.png\n"
     ]
    },
    {
     "data": {
      "image/png": "[encoded data removed]",
      "text/plain": [
       "<IPython.core.display.Image object>"
      ]
     },
     "metadata": {},
     "output_type": "display_data"
    },
    {
     "name": "stdout",
     "output_type": "stream",
     "text": [
      "U:\\Deep Learning\\dl\\notMNIST_large\\G/RnJhbmtsaW5Hb3RoaWMtUm9tYW4ub3Rm.png\n"
     ]
    },
    {
     "data": {
      "image/png": "[encoded data removed]",
      "text/plain": [
       "<IPython.core.display.Image object>"
      ]
     },
     "metadata": {},
     "output_type": "display_data"
    },
    {
     "name": "stdout",
     "output_type": "stream",
     "text": [
      "U:\\Deep Learning\\dl\\notMNIST_large\\G/TGFuc2J1cnkudHRm.png\n"
     ]
    },
    {
     "data": {
      "image/png": "[encoded data removed]",
      "text/plain": [
       "<IPython.core.display.Image object>"
      ]
     },
     "metadata": {},
     "output_type": "display_data"
    },
    {
     "name": "stdout",
     "output_type": "stream",
     "text": [
      "U:\\Deep Learning\\dl\\notMNIST_large\\G/U3F1YXJlU2xhYjcxMSBMdCBCVCBNZWRpdW0udHRm.png\n"
     ]
    },
    {
     "data": {
      "image/png": "[encoded data removed]",
      "text/plain": [
       "<IPython.core.display.Image object>"
      ]
     },
     "metadata": {},
     "output_type": "display_data"
    },
    {
     "name": "stdout",
     "output_type": "stream",
     "text": [
      "U:\\Deep Learning\\dl\\notMNIST_large\\G/VlRDR29ibGluSGFuZFNDLnR0Zg==.png\n"
     ]
    },
    {
     "data": {
      "image/png": "[encoded data removed]",
      "text/plain": [
       "<IPython.core.display.Image object>"
      ]
     },
     "metadata": {},
     "output_type": "display_data"
    },
    {
     "name": "stdout",
     "output_type": "stream",
     "text": [
      "U:\\Deep Learning\\dl\\notMNIST_large\\H/a29ydW5pc2hpLnR0Zg==.png\n"
     ]
    },
    {
     "data": {
      "image/png": "[encoded data removed]",
      "text/plain": [
       "<IPython.core.display.Image object>"
      ]
     },
     "metadata": {},
     "output_type": "display_data"
    },
    {
     "name": "stdout",
     "output_type": "stream",
     "text": [
      "U:\\Deep Learning\\dl\\notMNIST_large\\H/QSBGb250IHdpdGggU2VyaWZzLnR0Zg==.png\n"
     ]
    },
    {
     "data": {
      "image/png": "[encoded data removed]",
      "text/plain": [
       "<IPython.core.display.Image object>"
      ]
     },
     "metadata": {},
     "output_type": "display_data"
    },
    {
     "name": "stdout",
     "output_type": "stream",
     "text": [
      "U:\\Deep Learning\\dl\\notMNIST_large\\H/RnJhbmtsaW5Hb3RoaWMtUm9tYW4ub3Rm.png\n"
     ]
    },
    {
     "data": {
      "image/png": "[encoded data removed]",
      "text/plain": [
       "<IPython.core.display.Image object>"
      ]
     },
     "metadata": {},
     "output_type": "display_data"
    },
    {
     "name": "stdout",
     "output_type": "stream",
     "text": [
      "U:\\Deep Learning\\dl\\notMNIST_large\\H/TGFuc2J1cnkudHRm.png\n"
     ]
    },
    {
     "data": {
      "image/png": "[encoded data removed]",
      "text/plain": [
       "<IPython.core.display.Image object>"
      ]
     },
     "metadata": {},
     "output_type": "display_data"
    },
    {
     "name": "stdout",
     "output_type": "stream",
     "text": [
      "U:\\Deep Learning\\dl\\notMNIST_large\\H/U3F1YXJlU2xhYjcxMSBMdCBCVCBNZWRpdW0udHRm.png\n"
     ]
    },
    {
     "data": {
      "image/png": "[encoded data removed]",
      "text/plain": [
       "<IPython.core.display.Image object>"
      ]
     },
     "metadata": {},
     "output_type": "display_data"
    },
    {
     "name": "stdout",
     "output_type": "stream",
     "text": [
      "U:\\Deep Learning\\dl\\notMNIST_large\\H/VlRDR29ibGluSGFuZFNDLnR0Zg==.png\n"
     ]
    },
    {
     "data": {
      "image/png": "[encoded data removed]",
      "text/plain": [
       "<IPython.core.display.Image object>"
      ]
     },
     "metadata": {},
     "output_type": "display_data"
    },
    {
     "name": "stdout",
     "output_type": "stream",
     "text": [
      "U:\\Deep Learning\\dl\\notMNIST_large\\I/a29ydW5pc2hpLnR0Zg==.png\n"
     ]
    },
    {
     "data": {
      "image/png": "[encoded data removed]",
      "text/plain": [
       "<IPython.core.display.Image object>"
      ]
     },
     "metadata": {},
     "output_type": "display_data"
    },
    {
     "name": "stdout",
     "output_type": "stream",
     "text": [
      "U:\\Deep Learning\\dl\\notMNIST_large\\I/QSBGb250IHdpdGggU2VyaWZzLnR0Zg==.png\n"
     ]
    },
    {
     "data": {
      "image/png": "[encoded data removed]",
      "text/plain": [
       "<IPython.core.display.Image object>"
      ]
     },
     "metadata": {},
     "output_type": "display_data"
    },
    {
     "name": "stdout",
     "output_type": "stream",
     "text": [
      "U:\\Deep Learning\\dl\\notMNIST_large\\I/RnJhbmtsaW5Hb3RoaWMtUm9tYW4ub3Rm.png\n"
     ]
    },
    {
     "data": {
      "image/png": "[encoded data removed]",
      "text/plain": [
       "<IPython.core.display.Image object>"
      ]
     },
     "metadata": {},
     "output_type": "display_data"
    },
    {
     "name": "stdout",
     "output_type": "stream",
     "text": [
      "U:\\Deep Learning\\dl\\notMNIST_large\\I/TGFuc2J1cnkudHRm.png\n"
     ]
    },
    {
     "data": {
      "image/png": "[encoded data removed]",
      "text/plain": [
       "<IPython.core.display.Image object>"
      ]
     },
     "metadata": {},
     "output_type": "display_data"
    },
    {
     "name": "stdout",
     "output_type": "stream",
     "text": [
      "U:\\Deep Learning\\dl\\notMNIST_large\\I/U3F1YXJlU2xhYjcxMSBMdCBCVCBNZWRpdW0udHRm.png\n"
     ]
    },
    {
     "data": {
      "image/png": "[encoded data removed]",
      "text/plain": [
       "<IPython.core.display.Image object>"
      ]
     },
     "metadata": {},
     "output_type": "display_data"
    },
    {
     "name": "stdout",
     "output_type": "stream",
     "text": [
      "U:\\Deep Learning\\dl\\notMNIST_large\\I/VlRDR29ibGluSGFuZFNDLnR0Zg==.png\n"
     ]
    },
    {
     "data": {
      "image/png": "[encoded data removed]",
      "text/plain": [
       "<IPython.core.display.Image object>"
      ]
     },
     "metadata": {},
     "output_type": "display_data"
    },
    {
     "name": "stdout",
     "output_type": "stream",
     "text": [
      "U:\\Deep Learning\\dl\\notMNIST_large\\J/a29ydW5pc2hpLnR0Zg==.png\n"
     ]
    },
    {
     "data": {
      "image/png": "[encoded data removed]",
      "text/plain": [
       "<IPython.core.display.Image object>"
      ]
     },
     "metadata": {},
     "output_type": "display_data"
    },
    {
     "name": "stdout",
     "output_type": "stream",
     "text": [
      "U:\\Deep Learning\\dl\\notMNIST_large\\J/QSBGb250IHdpdGggU2VyaWZzLnR0Zg==.png\n"
     ]
    },
    {
     "data": {
      "image/png": "[encoded data removed]",
      "text/plain": [
       "<IPython.core.display.Image object>"
      ]
     },
     "metadata": {},
     "output_type": "display_data"
    },
    {
     "name": "stdout",
     "output_type": "stream",
     "text": [
      "U:\\Deep Learning\\dl\\notMNIST_large\\J/RnJhbmtsaW5Hb3RoaWMtUm9tYW4ub3Rm.png\n"
     ]
    },
    {
     "data": {
      "image/png": "[encoded data removed]",
      "text/plain": [
       "<IPython.core.display.Image object>"
      ]
     },
     "metadata": {},
     "output_type": "display_data"
    },
    {
     "name": "stdout",
     "output_type": "stream",
     "text": [
      "U:\\Deep Learning\\dl\\notMNIST_large\\J/TGFuc2J1cnkudHRm.png\n"
     ]
    },
    {
     "data": {
      "image/png": "[encoded data removed]",
      "text/plain": [
       "<IPython.core.display.Image object>"
      ]
     },
     "metadata": {},
     "output_type": "display_data"
    },
    {
     "name": "stdout",
     "output_type": "stream",
     "text": [
      "U:\\Deep Learning\\dl\\notMNIST_large\\J/U3F1YXJlU2xhYjcxMSBMdCBCVCBNZWRpdW0udHRm.png\n"
     ]
    },
    {
     "data": {
      "image/png": "[encoded data removed]",
      "text/plain": [
       "<IPython.core.display.Image object>"
      ]
     },
     "metadata": {},
     "output_type": "display_data"
    },
    {
     "name": "stdout",
     "output_type": "stream",
     "text": [
      "U:\\Deep Learning\\dl\\notMNIST_large\\J/VlRDS29taXhhdGlvbkhhbmQudHRm.png\n"
     ]
    },
    {
     "data": {
      "image/png": "[encoded data removed]",
      "text/plain": [
       "<IPython.core.display.Image object>"
      ]
     },
     "metadata": {},
     "output_type": "display_data"
    }
   ],
   "source": [
    "train_folders = maybe_extract(\"notMNIST_large\",num_classes=2)\n",
    "test_folders = maybe_extract(\"notMNIST_small\",num_classes=2)\n",
    "directories = [os.path.abspath(x) for x in train_folders]\n",
    "directory_lists = [os.listdir(y) for y in directories]\n",
    "for i in range(len(directory_lists)):\n",
    "    for j in range(len(directory_lists[i])):\n",
    "        if(j % 10000 == 0):\n",
    "            print(directories[i] + \"/\" + directory_lists[i][j])\n",
    "            display(Image(filename=(directories[i] + \"/\" + directory_lists[i][j])))"
   ]
  },
  {
   "cell_type": "code",
   "execution_count": 3,
   "metadata": {},
   "outputs": [
    {
     "name": "stdout",
     "output_type": "stream",
     "text": [
      "notMNIST_large\\A.pickle already present - Skipping pickling.\n",
      "notMNIST_large\\B.pickle already present - Skipping pickling.\n",
      "notMNIST_large\\C.pickle already present - Skipping pickling.\n",
      "notMNIST_large\\D.pickle already present - Skipping pickling.\n",
      "notMNIST_large\\E.pickle already present - Skipping pickling.\n",
      "notMNIST_large\\F.pickle already present - Skipping pickling.\n",
      "notMNIST_large\\G.pickle already present - Skipping pickling.\n",
      "notMNIST_large\\H.pickle already present - Skipping pickling.\n",
      "notMNIST_large\\I.pickle already present - Skipping pickling.\n",
      "notMNIST_large\\J.pickle already present - Skipping pickling.\n",
      "notMNIST_small\\A.pickle already present - Skipping pickling.\n",
      "notMNIST_small\\B.pickle already present - Skipping pickling.\n",
      "notMNIST_small\\C.pickle already present - Skipping pickling.\n",
      "notMNIST_small\\D.pickle already present - Skipping pickling.\n",
      "notMNIST_small\\E.pickle already present - Skipping pickling.\n",
      "notMNIST_small\\F.pickle already present - Skipping pickling.\n",
      "notMNIST_small\\G.pickle already present - Skipping pickling.\n",
      "notMNIST_small\\H.pickle already present - Skipping pickling.\n",
      "notMNIST_small\\I.pickle already present - Skipping pickling.\n",
      "notMNIST_small\\J.pickle already present - Skipping pickling.\n"
     ]
    },
    {
     "data": {
      "image/png": "[encoded data removed]",
      "text/plain": [
       "<Figure size 432x288 with 5 Axes>"
      ]
     },
     "metadata": {},
     "output_type": "display_data"
    },
    {
     "data": {
      "image/png": "[encoded data removed]",
      "text/plain": [
       "<Figure size 432x288 with 5 Axes>"
      ]
     },
     "metadata": {},
     "output_type": "display_data"
    },
    {
     "data": {
      "image/png": "[encoded data removed]",
      "text/plain": [
       "<Figure size 432x288 with 5 Axes>"
      ]
     },
     "metadata": {},
     "output_type": "display_data"
    },
    {
     "data": {
      "image/png": "[encoded data removed]",
      "text/plain": [
       "<Figure size 432x288 with 5 Axes>"
      ]
     },
     "metadata": {},
     "output_type": "display_data"
    }
   ],
   "source": [
    "train_datasets = maybe_pickle(train_folders, min_num_images_per_class=45000)\n",
    "test_datasets = maybe_pickle(test_folders, 1800)\n",
    "train_datasets = train_datasets[0:2]\n",
    "test_datasets = train_datasets[0:2]\n",
    "np.random.seed(13)\n",
    "for name in train_datasets:\n",
    "    showProcessedRandom(name,5) \n",
    "for name in test_datasets:\n",
    "    showProcessedRandom(name,5)"
   ]
  },
  {
   "cell_type": "code",
   "execution_count": 5,
   "metadata": {},
   "outputs": [
    {
     "name": "stdout",
     "output_type": "stream",
     "text": [
      "Training: (40000, 28, 28) (40000,)\n",
      "Validation: (2000, 28, 28) (2000,)\n",
      "Testing: (2000, 28, 28) (2000,)\n",
      "\n",
      "train_set_x_flatten shape: (784, 40000)\n",
      "train_set_y shape: (1, 40000)\n",
      "test_set_x_flatten shape: (784, 2000)\n",
      "test_set_y shape: (1, 2000)\n"
     ]
    }
   ],
   "source": [
    "train_size = 40000\n",
    "valid_size = 2000\n",
    "test_size = 2000\n",
    "\n",
    "valid_dataset, valid_labels, train_dataset, train_labels = merge_datasets(\n",
    "  train_datasets, train_size, valid_size)\n",
    "_, _, test_dataset, test_labels = merge_datasets(test_datasets, test_size)\n",
    "\n",
    "print('Training:', train_dataset.shape, train_labels.shape)\n",
    "print('Validation:', valid_dataset.shape, valid_labels.shape)\n",
    "print('Testing:', test_dataset.shape, test_labels.shape)\n",
    "\n",
    "train_dataset, train_labels = randomize(train_dataset, train_labels)\n",
    "test_dataset, test_labels = randomize(test_dataset, test_labels)\n",
    "valid_dataset, valid_labels = randomize(valid_dataset, valid_labels)\n",
    "\n",
    "train_set_x_flatten = train_dataset.reshape(train_dataset.shape[0],-1).T # -1 is saying whatever left\n",
    "test_set_x_flatten = valid_dataset.reshape(valid_dataset.shape[0],-1).T\n",
    "train_set_y = train_labels.reshape(1,len(train_labels))\n",
    "test_set_y = valid_labels.reshape(1,len(valid_labels))\n",
    "\n",
    "print (\"\\ntrain_set_x_flatten shape: \" + str(train_set_x_flatten.shape))\n",
    "print (\"train_set_y shape: \" + str(train_set_y.shape))\n",
    "print (\"test_set_x_flatten shape: \" + str(test_set_x_flatten.shape))\n",
    "print (\"test_set_y shape: \" + str(test_set_y.shape))\n",
    "\n",
    "X = train_set_x_flatten\n",
    "Y = train_set_y"
   ]
  },
  {
   "cell_type": "code",
   "execution_count": 6,
   "metadata": {},
   "outputs": [],
   "source": [
    "def sigmoid(z):\n",
    "    return 1/(1+np.exp(-z))\n",
    "\n",
    "def relu(Z):\n",
    "    return np.maximum(0,Z)   \n",
    "\n",
    "def relu_backward(dA, Z):\n",
    "    dZ = np.array(dA, copy=True) \n",
    "    dZ[Z <= 0] = 0\n",
    "    assert (dZ.shape == Z.shape)\n",
    "    return dZ\n",
    "\n",
    "def sigmoid_backward(dA, Z):   \n",
    "    s = 1/(1+np.exp(-Z))\n",
    "    dZ = dA * s * (1-s)    \n",
    "    assert (dZ.shape == Z.shape)    \n",
    "    return dZ"
   ]
  },
  {
   "cell_type": "code",
   "execution_count": 7,
   "metadata": {},
   "outputs": [],
   "source": [
    "def initialize_parameters(layer_dims):   \n",
    "    np.random.seed(1)\n",
    "    parameters = {}\n",
    "    L = len(layer_dims)            # number of layers in the network\n",
    "\n",
    "    for l in range(1, L):\n",
    "        parameters['W' + str(l)] = np.random.randn(layer_dims[l], layer_dims[l-1]) * 0.01\n",
    "        parameters['b' + str(l)] = np.zeros((layer_dims[l], 1))\n",
    "                \n",
    "    return parameters\n",
    "\n",
    "##############################################################################################\n",
    "def linear_activation_forward(A_prev, W, b, activation):\n",
    "    Z = np.dot(W,A_prev)+b\n",
    "    \n",
    "    if activation == \"sigmoid\":        \n",
    "        A = sigmoid(Z)\n",
    "    \n",
    "    elif activation == \"relu\":\n",
    "        A = relu(Z)\n",
    "\n",
    "    assert (A.shape == (W.shape[0], A_prev.shape[1]))\n",
    "    cache = (A_prev,W,b,Z)\n",
    "    return A, cache\n",
    "\n",
    "def forward_calculations(X, parameters, activations):\n",
    "    caches = []\n",
    "    A = X\n",
    "    L = len(parameters) // 2    \n",
    "    assert (L == len(activations))\n",
    "    \n",
    "    for l in range(L):\n",
    "        A_prev = A \n",
    "        A, cache = linear_activation_forward(A_prev, parameters[\"W\"+str(l+1)], parameters[\"b\"+str(l+1)], activations[l])\n",
    "        caches.append(cache)\n",
    "    \n",
    "    assert(A.shape == (1,X.shape[1]))\n",
    "    return A, caches\n",
    "\n",
    "##############################################################################################\n",
    "def compute_cost(AL, Y):\n",
    "    m = Y.shape[1]\n",
    "    cost = -(np.sum(np.multiply(np.log(AL),Y) + np.multiply(np.log(1-AL),1-Y)))/m\n",
    "    \n",
    "    # Initializing the backpropagation\n",
    "    dAL = - (np.divide(Y, AL) - np.divide(1 - Y, 1 - AL))\n",
    "    return dAL, np.squeeze(cost)\n",
    "\n",
    "##############################################################################################\n",
    "def linear_activation_backward(dA, cache, activation):\n",
    "\n",
    "    A_prev, W, b, Z = cache\n",
    "    m = A_prev.shape[1]\n",
    "    \n",
    "    if activation == \"relu\":\n",
    "        dZ = relu_backward(dA, Z)\n",
    "\n",
    "    elif activation == \"sigmoid\":\n",
    "        dZ = sigmoid_backward(dA, Z)\n",
    "        \n",
    "    dW = np.dot(dZ,A_prev.T)/m\n",
    "    db = np.sum(dZ,axis=1,keepdims=True)/m\n",
    "    dA_prev = np.dot(W.T,dZ)\n",
    "    \n",
    "    assert (dA_prev.shape == A_prev.shape)\n",
    "    assert (dW.shape == W.shape)\n",
    "    assert (db.shape == b.shape)\n",
    "    \n",
    "    return dA_prev, dW, db\n",
    "\n",
    "def backward_calculations(dAL, caches, activations):\n",
    "\n",
    "    grads = {}\n",
    "    L = len(caches) # the number of layers\n",
    "    assert (L == len(activations))\n",
    " \n",
    "    current_cache = caches[L-1]\n",
    "    grads[\"dA\" + str(L)], grads[\"dW\" + str(L)], grads[\"db\" + str(L)] = linear_activation_backward(dAL, current_cache, activations[-1])\n",
    "\n",
    "    for l in reversed(range(L-1)):\n",
    "        current_cache = caches[l]\n",
    "        dA_prev_temp, dW_temp, db_temp = linear_activation_backward(grads[\"dA\"+str(l+2)], current_cache, activations[l])\n",
    "        grads[\"dA\" + str(l + 1)] = dA_prev_temp\n",
    "        grads[\"dW\" + str(l + 1)] = dW_temp\n",
    "        grads[\"db\" + str(l + 1)] = db_temp\n",
    "\n",
    "    return grads\n",
    "\n",
    "##############################################################################################\n",
    "def optimization(parameters, grads, learning_rate):\n",
    "\n",
    "    L = len(parameters) // 2 # number of layers in the neural network\n",
    "\n",
    "    for l in range(1,L+1):\n",
    "        parameters[\"W\" + str(l)] = parameters[\"W\" + str(l)] - learning_rate * grads[\"dW\"+str(l)]\n",
    "        parameters[\"b\" + str(l)] = parameters[\"b\" + str(l)] - learning_rate * grads[\"db\"+str(l)]\n",
    "    return parameters"
   ]
  },
  {
   "cell_type": "code",
   "execution_count": 8,
   "metadata": {},
   "outputs": [
    {
     "name": "stdout",
     "output_type": "stream",
     "text": [
      "cost at iteration 0 : 0.6837978819875032\n",
      "cost at iteration 100 : 0.2963817211974926\n",
      "cost at iteration 200 : 0.24713615651779755\n",
      "cost at iteration 300 : 0.22399184713650205\n",
      "cost at iteration 400 : 0.21018621927869627\n",
      "cost at iteration 500 : 0.20093845121513038\n",
      "cost at iteration 600 : 0.19426897702948787\n",
      "cost at iteration 700 : 0.18920145781595124\n",
      "cost at iteration 800 : 0.1851988886818996\n",
      "cost at iteration 900 : 0.18194182511991808\n"
     ]
    }
   ],
   "source": [
    "num_iteration = 1000\n",
    "m = X.shape[-1] # number of training examples\n",
    "n_x = X.shape[0] # number of features\n",
    "alpha = 0.006 # learning rate\n",
    "\n",
    "layers = [1]\n",
    "activations = [\"sigmoid\"]\n",
    "\n",
    "np.random.seed(1)\n",
    "# initialization\n",
    "layer_dims = [n_x] + layers\n",
    "params = initialize_parameters(layer_dims)\n",
    "\n",
    "for it in range(num_iteration):\n",
    "        \n",
    "    # forward propagation\n",
    "    a, caches = forward_calculations(X, params, activations)\n",
    "        \n",
    "    # cost calculation\n",
    "    da , cost = compute_cost(a, Y)\n",
    "        \n",
    "    # backward propagation\n",
    "    grads = backward_calculations(da, caches, activations)\n",
    "    \n",
    "    # optimization\n",
    "    params = optimization(params, grads, alpha)\n",
    "    \n",
    "    if it%100 == 0:\n",
    "        print(\"cost at iteration\",it,\":\",cost)\n",
    "    "
   ]
  },
  {
   "cell_type": "code",
   "execution_count": 9,
   "metadata": {},
   "outputs": [
    {
     "name": "stdout",
     "output_type": "stream",
     "text": [
      "train accuracy: 92.6925 %\n"
     ]
    }
   ],
   "source": [
    "def predict(X, params, activations):\n",
    "    m = X.shape[1]\n",
    "    Y_prediction = np.zeros((1,m))\n",
    "    A = X\n",
    "    L = len(params) // 2 \n",
    "\n",
    "    for l in range(L):\n",
    "        A_prev = A \n",
    "        W = params[\"W\"+str(l+1)]\n",
    "        b = params[\"b\"+str(l+1)]\n",
    "        Z = np.dot(W,A_prev)+b\n",
    "        if activations[l] == \"sigmoid\":        \n",
    "            A = sigmoid(Z)    \n",
    "        elif activations[l] == \"relu\":\n",
    "            A = relu(Z)\n",
    "\n",
    "    for i in range(A.shape[1]):\n",
    "        if A[0,i] > .5:\n",
    "            Y_prediction[0,i] = 1\n",
    "        else: \n",
    "            Y_prediction[0,i] = 0\n",
    "    \n",
    "    assert(Y_prediction.shape == (1, m))    \n",
    "    return Y_prediction\n",
    "\n",
    "Y_prediction_train = predict(train_set_x_flatten,params,[\"sigmoid\"] )\n",
    "print(\"train accuracy: {} %\".format(100 - np.mean(np.abs(Y_prediction_train - Y)) * 100))"
   ]
  },
  {
   "cell_type": "markdown",
   "metadata": {},
   "source": [
    "### Using Mini-batches "
   ]
  },
  {
   "cell_type": "code",
   "execution_count": 9,
   "metadata": {},
   "outputs": [],
   "source": [
    "def random_mini_batches(X, Y, mini_batch_size = 64, seed = 0):\n",
    "    \n",
    "    np.random.seed(seed)            \n",
    "    m = X.shape[1]                \n",
    "    mini_batches = []\n",
    "        \n",
    "    permutation = list(np.random.permutation(m))\n",
    "    shuffled_X = X[:, permutation]\n",
    "    shuffled_Y = Y[:, permutation].reshape((1,m))\n",
    "\n",
    "\n",
    "    num_complete_minibatches = floor(m/mini_batch_size) \n",
    "    for k in range(num_complete_minibatches):\n",
    "        mini_batch_X = shuffled_X[:, mini_batch_size*k : mini_batch_size*(k+1)]\n",
    "        mini_batch_Y = shuffled_Y[:, mini_batch_size*k : mini_batch_size*(k+1)]\n",
    "        mini_batch = (mini_batch_X, mini_batch_Y)\n",
    "        mini_batches.append(mini_batch)\n",
    "    \n",
    "    # Handling the end case (last mini-batch < mini_batch_size)\n",
    "    if m % mini_batch_size != 0:\n",
    "        mini_batch_X = shuffled_X[:, mini_batch_size*num_complete_minibatches:]\n",
    "        mini_batch_Y = shuffled_Y[:, mini_batch_size*num_complete_minibatches:]\n",
    "        mini_batch = (mini_batch_X, mini_batch_Y)\n",
    "        mini_batches.append(mini_batch)\n",
    "    \n",
    "    return mini_batches"
   ]
  },
  {
   "cell_type": "code",
   "execution_count": 10,
   "metadata": {},
   "outputs": [
    {
     "name": "stdout",
     "output_type": "stream",
     "text": [
      "cost at iteration 0 : 0.6931200438213794\n",
      "cost at iteration 50 : 0.052199379557721234\n",
      "cost at iteration 100 : 0.04053487660475332\n",
      "cost at iteration 150 : 0.005115700633641307\n"
     ]
    }
   ],
   "source": [
    "num_ephocs = 200\n",
    "m = X.shape[-1] # number of training examples\n",
    "n_x = X.shape[0] # number of features\n",
    "alpha = 0.006 # learning rate\n",
    "mini_batch_size = 64\n",
    "seed = 0\n",
    "\n",
    "layers = [20,10,1]\n",
    "activations = [\"relu\",\"relu\",\"sigmoid\"]\n",
    "\n",
    "\n",
    "layer_dims = [n_x] + layers\n",
    "params = initialize_parameters(layer_dims)\n",
    "\n",
    "for it in range(num_ephocs):\n",
    "    seed = seed + 1\n",
    "    minibatches = random_mini_batches(X, Y, mini_batch_size, seed)\n",
    "\n",
    "    for minibatch in minibatches:\n",
    "\n",
    "        # Select a minibatch\n",
    "        (minibatch_X, minibatch_Y) = minibatch\n",
    "        \n",
    "        # forward propagation\n",
    "        a, caches = forward_calculations(minibatch_X, params, activations)\n",
    "\n",
    "        # cost calculation\n",
    "        da , cost = compute_cost(a, minibatch_Y)\n",
    "\n",
    "        # backward propagation\n",
    "        grads = backward_calculations(da, caches, activations)\n",
    "\n",
    "        # optimization\n",
    "        params = optimization(params, grads, alpha)\n",
    "\n",
    "    if it%50 == 0:\n",
    "        print(\"cost at iteration\",it,\":\",cost)\n",
    "    "
   ]
  },
  {
   "cell_type": "markdown",
   "metadata": {},
   "source": [
    "The data is deduced from [here](https://commondatastorage.googleapis.com/books1000/) which is provided by Google for its deep learning course assignment."
   ]
  }
 ],
 "metadata": {
  "kernelspec": {
   "display_name": "Python 3",
   "language": "python",
   "name": "python3"
  },
  "language_info": {
   "codemirror_mode": {
    "name": "ipython",
    "version": 3
   },
   "file_extension": ".py",
   "mimetype": "text/x-python",
   "name": "python",
   "nbconvert_exporter": "python",
   "pygments_lexer": "ipython3",
   "version": "3.6.4"
  }
 },
 "nbformat": 4,
 "nbformat_minor": 2
}
